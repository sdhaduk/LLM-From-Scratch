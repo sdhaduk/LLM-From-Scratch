{
 "cells": [
  {
   "cell_type": "markdown",
   "id": "80ea6887-3d70-4f9c-9649-beb58010be29",
   "metadata": {},
   "source": [
    "# Chapter 7: Fine-tuning to follow instructions"
   ]
  },
  {
   "cell_type": "markdown",
   "id": "c91a8afa-1cb9-437c-8cab-ac3b3d0e0534",
   "metadata": {},
   "source": [
    "## 7.1 Introduction to instruction fine-tuning"
   ]
  },
  {
   "cell_type": "markdown",
   "id": "f6467cfe-d93c-4f15-ad10-63eec80e76fb",
   "metadata": {},
   "source": [
    "#### We know that a pretrained LLM is capable of text completion, meaning it can finish sentences or write text paragraphs given a fragment as input. However, pretrained LLMs often struggle with specific instructions, such as, \"Fix the grammer in this text\" or \"Convert this text to passive voice\". \n",
    "\n",
    "#### We will focus on improving the LLMs ability to follow such instruction and generate a desired response. \n",
    "\n",
    "<div style=\"max-width:700px\">\n",
    "    \n",
    "![](images/7.1_1.png)\n",
    "\n",
    "</div>\n",
    "\n",
    "#### We we will begin with the first stage in the three stage instruction fine-tuning process.\n",
    "\n",
    "<div style=\"max-width:700px\">\n",
    "    \n",
    "![](images/7.1_2.png)\n",
    "\n",
    "</div>\n"
   ]
  },
  {
   "cell_type": "markdown",
   "id": "0f095952-2670-43e5-8e12-507d88115902",
   "metadata": {},
   "source": [
    "## 7.2 Preparing a dataset for supervised instruction fine-tuning"
   ]
  },
  {
   "cell_type": "markdown",
   "id": "cf8f34f1-fd36-4933-a609-99a9f0658506",
   "metadata": {},
   "source": [
    "#### We will download and format the instruction dataset for instruction fine-tuning a pre-trained LLM. This dataset contains 1,100 instruction-response pairs similar to those in the first figure."
   ]
  },
  {
   "cell_type": "code",
   "execution_count": 1,
   "id": "14577929-69da-43a5-a840-a27d9edca1e6",
   "metadata": {},
   "outputs": [
    {
     "name": "stdout",
     "output_type": "stream",
     "text": [
      "Number of entries: 1100\n"
     ]
    }
   ],
   "source": [
    "import json\n",
    "import os\n",
    "import urllib\n",
    "\n",
    "def download_and_load_file(file_path, url):\n",
    "    if not os.path.exists(file_path):\n",
    "        with urllib.request.urlopen(url) as response:\n",
    "            text_data = response.read().decode(\"utf-8\")\n",
    "        with open(file_path, \"w\", encoding=\"utf-8\") as file:\n",
    "            file.write(text_data)\n",
    "    \n",
    "    with open(file_path, \"r\") as file:\n",
    "        data = json.load(file)\n",
    "    return data\n",
    "\n",
    "file_path = \"instruction-data.json\"\n",
    "url = (\n",
    "    \"https://raw.githubusercontent.com/rasbt/LLMs-from-scratch\"\n",
    "    \"/main/ch07/01_main-chapter-code/instruction-data.json\"\n",
    ")\n",
    "\n",
    "\n",
    "data = download_and_load_file(file_path, url)\n",
    "print(\"Number of entries:\", len(data))"
   ]
  },
  {
   "cell_type": "markdown",
   "id": "8b455796-1b9a-4d31-a918-87e2a993648e",
   "metadata": {},
   "source": [
    "#### This code implements and executes a function that downloads the dataset and puts it into JSON format."
   ]
  },
  {
   "cell_type": "code",
   "execution_count": 2,
   "id": "05fabfc2-d2d1-4079-8a7c-d767484b73d7",
   "metadata": {},
   "outputs": [
    {
     "name": "stdout",
     "output_type": "stream",
     "text": [
      "Example entry:\n",
      " {'instruction': 'Identify the correct spelling of the following word.', 'input': 'Ocassion', 'output': \"The correct spelling is 'Occasion.'\"}\n"
     ]
    }
   ],
   "source": [
    "print(\"Example entry:\\n\", data[50])"
   ]
  },
  {
   "cell_type": "markdown",
   "id": "2a7ae4b3-177d-4b5a-a67c-a641b34c050e",
   "metadata": {},
   "source": [
    "#### As we can see, each example is a dictionary containing 'instruction', 'input', and 'output'."
   ]
  },
  {
   "cell_type": "code",
   "execution_count": 3,
   "id": "8392ad97-ee8b-4a5f-b5b6-f31b79a1d5ed",
   "metadata": {},
   "outputs": [
    {
     "name": "stdout",
     "output_type": "stream",
     "text": [
      "Another example entry:\n",
      " {'instruction': \"What is an antonym of 'complicated'?\", 'input': '', 'output': \"An antonym of 'complicated' is 'simple'.\"}\n"
     ]
    }
   ],
   "source": [
    "print(\"Another example entry:\\n\", data[999])"
   ]
  },
  {
   "cell_type": "markdown",
   "id": "5f551820-a5b8-4520-90eb-0c61ae57a6f0",
   "metadata": {},
   "source": [
    "#### As shown above, the 'input' field may occasionally be empty."
   ]
  },
  {
   "cell_type": "markdown",
   "id": "70c9ec09-ff71-4f02-8341-7afd30d230e4",
   "metadata": {},
   "source": [
    "#### Instruction fine-tuning involves training a model by providing it explicit input-output pairs. There are various ways to format these entires for LLMs. The figure below showcases two different example formats, known as 'prompt styles', used in the training of LLMs such as Alpaca and Phi-3.\n",
    "\n",
    "<div style=\"max-width:800px\">\n",
    "    \n",
    "![](images/7.2_1.png)\n",
    "\n",
    "</div>\n",
    "\n",
    "#### We will use the Alpaca prompty style because it is one of the most popular ones."
   ]
  },
  {
   "cell_type": "markdown",
   "id": "62bb0cbb-4716-4f10-8226-76d56db403a8",
   "metadata": {},
   "source": [
    "#### Lets define a 'format_input' function that we can use to convert the entires in the data list into the Alpaca-style input format."
   ]
  },
  {
   "cell_type": "code",
   "execution_count": 4,
   "id": "3044ad3d-cd89-4a7e-b685-69d92d901e97",
   "metadata": {},
   "outputs": [],
   "source": [
    "def format_input(entry):\n",
    "    instruction_text = f\"Below is an instruction that describes a task. Write a response that appropriately completes the request.\\n\\n### Instruction:\\n{entry['instruction']}\"\n",
    "    input_text = f\"\\n\\n### Input:\\n{entry['input']}\" if entry[\"input\"] else \" \"\n",
    "    return instruction_text + input_text"
   ]
  },
  {
   "cell_type": "code",
   "execution_count": 5,
   "id": "a970281f-c9d8-4573-9111-f177e0170420",
   "metadata": {},
   "outputs": [
    {
     "name": "stdout",
     "output_type": "stream",
     "text": [
      "Below is an instruction that describes a task. Write a response that appropriately completes the request.\n",
      "\n",
      "### Instruction:\n",
      "Identify the correct spelling of the following word.\n",
      "\n",
      "### Input:\n",
      "Ocassion\n",
      "\n",
      "### Response:\n",
      "The correct spelling is 'Occasion.'\n"
     ]
    }
   ],
   "source": [
    "model_input = format_input(data[50])\n",
    "desired_response = f\"\\n\\n### Response:\\n{data[50]['output']}\"\n",
    "print(model_input + desired_response)"
   ]
  },
  {
   "cell_type": "markdown",
   "id": "16e3a0a6-84e4-4643-9dae-ab77425c18d1",
   "metadata": {},
   "source": [
    "#### Before we set up dataloaders, lets partition the dataset into a training, validation and test set."
   ]
  },
  {
   "cell_type": "code",
   "execution_count": 6,
   "id": "0e5f142a-b2a1-490d-bbc0-047873b4d767",
   "metadata": {},
   "outputs": [
    {
     "name": "stdout",
     "output_type": "stream",
     "text": [
      "Training set length: 935\n",
      "Validation set length: 55\n",
      "Test set length: 110\n"
     ]
    }
   ],
   "source": [
    "train_portion = int(len(data) * 0.85)\n",
    "test_portion = int(len(data) * 0.1)\n",
    "val_portion = len(data) - train_portion - test_portion\n",
    "\n",
    "train_data = data[:train_portion]\n",
    "test_data = data[train_portion:train_portion + test_portion]\n",
    "val_data = data[train_portion + test_portion:]\n",
    "\n",
    "print(\"Training set length:\", len(train_data))\n",
    "print(\"Validation set length:\", len(val_data))\n",
    "print(\"Test set length:\", len(test_data))"
   ]
  },
  {
   "cell_type": "markdown",
   "id": "95004ccc-9e56-4f72-b902-358a99dbab23",
   "metadata": {},
   "source": [
    "#### Now we can focus on developing the method for construction training batches for fine-tuning the LLM"
   ]
  },
  {
   "cell_type": "markdown",
   "id": "bbfef74c-44b4-4926-88fd-053ddcf567e5",
   "metadata": {},
   "source": [
    "## 7.3 Organizing data into training batches"
   ]
  },
  {
   "cell_type": "markdown",
   "id": "d22d4a1c-1d00-4634-9a5d-2a6fb3dbaf19",
   "metadata": {},
   "source": [
    "<div style=\"max-width:700px\">\n",
    "    \n",
    "![](images/7.3_1.png)\n",
    "\n",
    "</div>\n",
    "\n",
    "#### Previously, the training batches were created automatically by the PyTorch DataLoader class, which employs a 'collate' function to combine lists of samples into batches. A collate function takes a list of individual samples and merges them into a single batch.\n",
    "\n",
    "#### However, for instruction fine-tuning, we are required to create our own collate function that plug into the DataLoader. We implement this custom collate function to handle the specific requirements and formatting our instruction fine-tuning dataset.\n",
    "\n",
    "<div style=\"max-width:700px\">\n",
    "    \n",
    "![](images/7.3_2.png)\n",
    "\n",
    "</div>\n",
    "\n",
    "#### The figure above breaks down the batching process into several steps. \n",
    "\n",
    "#### First, to implement steps 2.1 and 2.2, we create an InstructionDataset class that applies format_input and pretokenizes all inputs in the dataset. This two step process is detailed below, and is implemented in the __init__ constructor method of the InstructionDataset class.\n",
    "\n",
    "<div style=\"max-width:800px\">\n",
    "    \n",
    "![](images/7.3_3.png)\n",
    "\n",
    "</div>"
   ]
  },
  {
   "cell_type": "code",
   "execution_count": 7,
   "id": "e236dd5f-3953-4f5d-b9eb-ffcbccfcc4c0",
   "metadata": {},
   "outputs": [],
   "source": [
    "import torch\n",
    "from torch.utils.data import Dataset\n",
    "\n",
    "class InstructionDataset(Dataset):\n",
    "    def __init__(self, data, tokenizer):\n",
    "        self.data = data\n",
    "        self.encoded_texts = []\n",
    "        for entry in data:\n",
    "            instruction_plus_input = format_input(entry)\n",
    "            response_text = f\"\\n\\n###Response:\\n{entry['output']}\"\n",
    "            full_text = instruction_plus_input + response_text\n",
    "            self.encoded_texts.append(tokenizer.encode(full_text))\n",
    "\n",
    "    def __getitem__(self, index):\n",
    "        return self.encoded_texts[index]\n",
    "\n",
    "    def __len__(self):\n",
    "        return len(self.data)"
   ]
  },
  {
   "cell_type": "markdown",
   "id": "e959bd5f-c418-4fad-920f-b46caba12a21",
   "metadata": {},
   "source": [
    "#### Similar to the approach used for classification fine-tuning, we want to collection multiple training examples in a batch, which necessitates padding all inputs to the same length which we do by appending the token ID for the <|endoftext|> token to the pretokenized inputs directly.\n",
    "\n",
    "#### Moving onto step 2.3 of the process, we develop a custom collate function that we can pass to the data loader. This custom collate function pads the training example in each batch to the same length while allowing different batches to have different lengths. This way, we avoid unncessary padding by only extending sequences to the longest one in the batch, not the whole dataset.\n",
    "\n",
    "<div style=\"max-width:700px\">\n",
    "    \n",
    "![](images/7.3_4.png)\n",
    "\n",
    "</div>"
   ]
  },
  {
   "cell_type": "code",
   "execution_count": 8,
   "id": "c2e0ea38-5992-4d3e-b4eb-e0fbea124a43",
   "metadata": {},
   "outputs": [],
   "source": [
    "def custom_collate_draft_1(batch, pad_token_id=50256, device=\"cpu\"):\n",
    "    batch_max_length = max(len(item)+1 for item in batch) # finds longest sequences in the batch\n",
    "    inputs_lst = []\n",
    "\n",
    "    for item in batch:\n",
    "        new_item = item.copy()\n",
    "        new_item += [pad_token_id]\n",
    "\n",
    "        padded = new_item + [pad_token_id] * (batch_max_length - len(new_item))\n",
    "        inputs = torch.tensor(padded[:-1])\n",
    "        inputs_lst.append(inputs)\n",
    "\n",
    "    inputs_tensor = torch.stack(inputs_lst).to(device)\n",
    "    return inputs_tensor"
   ]
  },
  {
   "cell_type": "code",
   "execution_count": 9,
   "id": "51b251b6-e4a0-4406-9108-ef8076b92d8e",
   "metadata": {},
   "outputs": [
    {
     "name": "stdout",
     "output_type": "stream",
     "text": [
      "tensor([[    0,     1,     2,     3,     4],\n",
      "        [    5,     6, 50256, 50256, 50256],\n",
      "        [    7,     8,     9, 50256, 50256]])\n"
     ]
    }
   ],
   "source": [
    "inputs_1 = [0, 1, 2, 3, 4]\n",
    "inputs_2 = [5, 6]\n",
    "inputs_3 = [7, 8, 9]\n",
    "batch = (\n",
    "    inputs_1,\n",
    "    inputs_2,\n",
    "    inputs_3\n",
    ")\n",
    "print(custom_collate_draft_1(batch))"
   ]
  },
  {
   "cell_type": "markdown",
   "id": "48c9f2e5-fe1d-4de6-906f-a87f6ef6241c",
   "metadata": {},
   "source": [
    "#### We have implemented our first custom collate function to create batches from lists of inputs. Now, we must modify it to also create the target token IDs corresponding to the batch of input IDs.\n",
    "\n",
    "<div style=\"max-width:700px\">\n",
    "    \n",
    "![](images/7.3_5.png)\n",
    "\n",
    "</div>"
   ]
  },
  {
   "cell_type": "code",
   "execution_count": 10,
   "id": "1e061f2f-ce16-4fc3-90b5-2906aef0826a",
   "metadata": {},
   "outputs": [
    {
     "name": "stdout",
     "output_type": "stream",
     "text": [
      "tensor([[    0,     1,     2,     3,     4],\n",
      "        [    5,     6, 50256, 50256, 50256],\n",
      "        [    7,     8,     9, 50256, 50256]])\n",
      "tensor([[    1,     2,     3,     4, 50256],\n",
      "        [    6, 50256, 50256, 50256, 50256],\n",
      "        [    8,     9, 50256, 50256, 50256]])\n"
     ]
    }
   ],
   "source": [
    "def custom_collate_draft_2(batch, pad_token_id=50256, device=\"cpu\"):\n",
    "    batch_max_length = max(len(item)+1 for item in batch) # finds longest sequences in the batch\n",
    "    inputs_lst, target_lst = [], []\n",
    "\n",
    "    for item in batch:\n",
    "        new_item = item.copy()\n",
    "        new_item += [pad_token_id]\n",
    "\n",
    "        padded = new_item + [pad_token_id] * (batch_max_length - len(new_item))\n",
    "        inputs = torch.tensor(padded[:-1])\n",
    "        targets = torch.tensor(padded[1:])\n",
    "        inputs_lst.append(inputs)\n",
    "        target_lst.append(targets)\n",
    "\n",
    "    inputs_tensor = torch.stack(inputs_lst).to(device)\n",
    "    targets_tensor = torch.stack(target_lst).to(device)\n",
    "    return inputs_tensor, targets_tensor\n",
    "\n",
    "inputs, targets = custom_collate_draft_2(batch)\n",
    "print(inputs)\n",
    "print(targets)"
   ]
  },
  {
   "cell_type": "markdown",
   "id": "25988d67-16e9-464e-adb0-94f86780e41a",
   "metadata": {},
   "source": [
    "#### We want to assign a -100 placeholder value to all padding tokens. This allows us to exlude these padding tokens from contributing to the training loss calculation, ensuring that only meaningful data influences model learning. (We did not have to worry about this for classification fine-tuning because we only trained the model based on the last output token.)\n",
    "\n",
    "#### Note that we retain one end-of-text token, ID 50256, in the target list, this allows the LLM to learn when to generate an end-of-text token in reponse to instruction. This is used as an indicator that the generated response is complete.\n",
    "\n",
    "#### Now we modify our collate function to replace tokens with ID 50256 with -100 in target lists. We also introduce a allowed_max_length parameter to optionally limit the length of samples.\n",
    "\n",
    "<div style=\"max-width:800px\">\n",
    "    \n",
    "![](images/7.3_6.png)\n",
    "\n",
    "</div>"
   ]
  },
  {
   "cell_type": "code",
   "execution_count": 11,
   "id": "5245c625-9e05-4d66-9d12-e36e9fa18d06",
   "metadata": {},
   "outputs": [],
   "source": [
    "def custom_collate_fn(batch, pad_token_id=50256, ignore_index=-100, allowed_max_length=None, device=\"cpu\"):\n",
    "    batch_max_length = max(len(item)+1 for item in batch)\n",
    "    inputs_lst, targets_lst = [], []\n",
    "\n",
    "    for item in batch:\n",
    "        new_item = item.copy()\n",
    "        new_item += [pad_token_id]\n",
    "\n",
    "        padded = new_item + [pad_token_id] * (batch_max_length - len(new_item)) # pads sequence to max_length\n",
    "        inputs = torch.tensor(padded[:-1]) # truncates to last token for input\n",
    "        targets = torch.tensor(padded[1:]) # shifts +1 to the right for targets\n",
    "\n",
    "        mask = targets == pad_token_id # replaces all but the first padding tokens in targets by ignore_index\n",
    "        indices = torch.nonzero(mask).squeeze()\n",
    "        if indices.numel() > 1:\n",
    "            targets[indices[1:]] = ignore_index\n",
    "\n",
    "        if allowed_max_length is not None:\n",
    "            inputs = inputs[:allowed_max_length]\n",
    "            targets = targets[:allowed_max_length]\n",
    "\n",
    "        inputs_lst.append(inputs)\n",
    "        targets_lst.append(targets)\n",
    "\n",
    "    inputs_tensor = torch.stack(inputs_lst).to(device)\n",
    "    targets_tensor = torch.stack(targets_lst).to(device)\n",
    "    return inputs_tensor, targets_tensor"
   ]
  },
  {
   "cell_type": "code",
   "execution_count": 12,
   "id": "d35d21c1-4ad1-4ad8-8966-1697d24c0c56",
   "metadata": {},
   "outputs": [
    {
     "name": "stdout",
     "output_type": "stream",
     "text": [
      "tensor([[    0,     1,     2,     3,     4],\n",
      "        [    5,     6, 50256, 50256, 50256],\n",
      "        [    7,     8,     9, 50256, 50256]])\n",
      "tensor([[    1,     2,     3,     4, 50256],\n",
      "        [    6, 50256,  -100,  -100,  -100],\n",
      "        [    8,     9, 50256,  -100,  -100]])\n"
     ]
    }
   ],
   "source": [
    "inputs, targets = custom_collate_fn(batch)\n",
    "print(inputs)\n",
    "print(targets)"
   ]
  },
  {
   "cell_type": "markdown",
   "id": "5e81a204-84ce-4908-8ae9-e448ffcc4086",
   "metadata": {},
   "source": [
    "#### Lets explore the underlying purpose of this modification\n",
    "\n",
    "#### Consider this simple and self-contained example where each output logit corresponds to a potential token from the models vocabulary. Here's how we calculate cross entropy loss during training when the model predicts a sequence of tokens."
   ]
  },
  {
   "cell_type": "code",
   "execution_count": 13,
   "id": "776abaf0-3b98-4540-99c0-9aeb034319c0",
   "metadata": {},
   "outputs": [
    {
     "name": "stdout",
     "output_type": "stream",
     "text": [
      "tensor(1.1269)\n"
     ]
    }
   ],
   "source": [
    "logits_1 = torch.tensor(\n",
    "    [[-1.0, 1.0],\n",
    "     [-0.5, 1.5]]\n",
    ")\n",
    "targets_1 = torch.tensor([0, 1]) # Correct token indices to generate\n",
    "loss_1 = torch.nn.functional.cross_entropy(logits_1, targets_1)\n",
    "print(loss_1)"
   ]
  },
  {
   "cell_type": "markdown",
   "id": "ad4f0d47-7050-40b7-a2f4-04a942fba147",
   "metadata": {},
   "source": [
    "#### Loss value calculated for previous code is 1.1269, and as we would expect, adding an additional token ID affects the loss calculation:"
   ]
  },
  {
   "cell_type": "code",
   "execution_count": 14,
   "id": "bd8e2aeb-63b3-4c17-9f8c-1c437c204a76",
   "metadata": {},
   "outputs": [
    {
     "name": "stdout",
     "output_type": "stream",
     "text": [
      "tensor(0.7936)\n"
     ]
    }
   ],
   "source": [
    "logits_2 = torch.tensor(\n",
    "    [[-1.0, 1.0],\n",
    "     [-0.5, 1.5],\n",
    "     [-0.5, 1.5]]\n",
    ")\n",
    "targets_2 = torch.tensor([0, 1, 1])\n",
    "loss_2 = torch.nn.functional.cross_entropy(logits_2, targets_2)\n",
    "print(loss_2)"
   ]
  },
  {
   "cell_type": "markdown",
   "id": "02953932-4cac-499a-8c2e-c37d81e43e15",
   "metadata": {},
   "source": [
    "#### Now lets see what happens when we replace the third target token ID with -100:"
   ]
  },
  {
   "cell_type": "code",
   "execution_count": 15,
   "id": "439240b6-a23f-40c6-9a7a-84f2769243ed",
   "metadata": {},
   "outputs": [
    {
     "name": "stdout",
     "output_type": "stream",
     "text": [
      "tensor(1.1269)\n",
      "loss_1 == loss_3: tensor(True)\n"
     ]
    }
   ],
   "source": [
    "targets_3 = torch.tensor([0, 1, -100])\n",
    "loss_3 = torch.nn.functional.cross_entropy(logits_2, targets_3)\n",
    "print(loss_3)\n",
    "print(\"loss_1 == loss_3:\", loss_1 == loss_3)"
   ]
  },
  {
   "cell_type": "markdown",
   "id": "e4c487e6-adc3-48d9-b4ae-b68138ae6cdf",
   "metadata": {},
   "source": [
    "#### The cross entropy loss function ignored the third entry in the targets_3 vector, the token ID corresponding to -100. The default setting of the cross entropy function in PyTorch ignores all targets labeled -100, and we can take advantage of this ignore additional padding tokens that we used to pad the trianing examples to have the same length in each batch.\n",
    "\n",
    "#### However, we want to keep one end-of-text token because it helps the LLM learn to generate end-of-text tokens, which we can use to indicate that a response is complete.\n",
    "\n",
    "#### In addition to masking out padding tokens, it is also common to mask out the target token IDs that correspond to the instruction. This results in the crosss entropy loss only being computed for the generated response target IDs, thus the model is trained to focus on generating accurate responses rather than memorizing instructions, which can help reduce overfitting."
   ]
  },
  {
   "cell_type": "markdown",
   "id": "d16879c1-df80-48a9-af1a-1c846dd6e9c1",
   "metadata": {},
   "source": [
    "## 7.4 Creating data loaders for an instruction dataset"
   ]
  },
  {
   "cell_type": "markdown",
   "id": "94fde5aa-e799-47ef-92f1-d146c178275a",
   "metadata": {},
   "source": [
    "#### We are ready to plug both InstructionDatset and the custom_collate_fn function into PyTorch data loaders.\n",
    "\n",
    "<div style=\"max-width:1000px\">\n",
    "    \n",
    "![](images/7.4_1.png)\n",
    "\n",
    "</div>"
   ]
  },
  {
   "cell_type": "code",
   "execution_count": 16,
   "id": "4ff59ec1-6f9b-4bf8-b326-4ce7408658b9",
   "metadata": {},
   "outputs": [
    {
     "name": "stdout",
     "output_type": "stream",
     "text": [
      "Device mps\n"
     ]
    }
   ],
   "source": [
    "device = torch.device(\"mps\" if torch.backends.mps.is_available() else \"cpu\")\n",
    "print(\"Device\", device)"
   ]
  },
  {
   "cell_type": "code",
   "execution_count": 17,
   "id": "f45d87f3-99f3-40d1-ace8-65f7ad3bf852",
   "metadata": {},
   "outputs": [],
   "source": [
    "from functools import partial\n",
    "customized_collate_fn = partial(custom_collate_fn, device=device, allowed_max_length=1024)"
   ]
  },
  {
   "cell_type": "code",
   "execution_count": 18,
   "id": "ba256036-3ea5-42ba-851a-44f092cf126e",
   "metadata": {},
   "outputs": [],
   "source": [
    "from torch.utils.data import DataLoader\n",
    "import tiktoken\n",
    "\n",
    "num_workers = 0\n",
    "batch_size = 1\n",
    "tokenizer = tiktoken.get_encoding(\"gpt2\")\n",
    "\n",
    "torch.manual_seed(123)\n",
    "\n",
    "train_dataset = InstructionDataset(train_data, tokenizer)\n",
    "train_loader = DataLoader(\n",
    "    train_dataset,\n",
    "    batch_size=batch_size,\n",
    "    collate_fn=customized_collate_fn,\n",
    "    shuffle=True,\n",
    "    drop_last=True,\n",
    "    num_workers=num_workers\n",
    ")\n",
    "\n",
    "val_dataset = InstructionDataset(val_data, tokenizer)\n",
    "val_loader = DataLoader(\n",
    "    val_dataset,\n",
    "    batch_size=batch_size,\n",
    "    collate_fn=customized_collate_fn,\n",
    "    shuffle=False,\n",
    "    drop_last=False,\n",
    "    num_workers=num_workers\n",
    ")\n",
    "\n",
    "test_dataset = InstructionDataset(test_data, tokenizer)\n",
    "test_loader = DataLoader(\n",
    "    test_dataset,\n",
    "    batch_size=batch_size,\n",
    "    collate_fn=customized_collate_fn,\n",
    "    shuffle=False,\n",
    "    drop_last=False,\n",
    "    num_workers=num_workers\n",
    ")"
   ]
  },
  {
   "cell_type": "code",
   "execution_count": 19,
   "id": "d87e6954-cf20-441d-94bb-dfc6a8d5b403",
   "metadata": {},
   "outputs": [
    {
     "name": "stdout",
     "output_type": "stream",
     "text": [
      "Train loader:\n",
      "torch.Size([1, 61]) torch.Size([1, 61])\n",
      "torch.Size([1, 49]) torch.Size([1, 49])\n",
      "torch.Size([1, 56]) torch.Size([1, 56])\n",
      "torch.Size([1, 54]) torch.Size([1, 54])\n",
      "torch.Size([1, 54]) torch.Size([1, 54])\n",
      "torch.Size([1, 58]) torch.Size([1, 58])\n",
      "torch.Size([1, 45]) torch.Size([1, 45])\n",
      "torch.Size([1, 58]) torch.Size([1, 58])\n",
      "torch.Size([1, 44]) torch.Size([1, 44])\n",
      "torch.Size([1, 63]) torch.Size([1, 63])\n",
      "torch.Size([1, 48]) torch.Size([1, 48])\n"
     ]
    }
   ],
   "source": [
    "count = 0\n",
    "print(\"Train loader:\")\n",
    "for inputs, targets in train_loader:\n",
    "    print(inputs.shape, targets.shape)\n",
    "    count += 1\n",
    "    if count > 10:\n",
    "        break\n",
    "    "
   ]
  },
  {
   "cell_type": "markdown",
   "id": "c3d8c856-b021-4e56-b86c-38062fe21117",
   "metadata": {},
   "source": [
    "#### Thanks to our custom collate function, the data loader is able to create batches of with differing token sequence lengths"
   ]
  },
  {
   "cell_type": "markdown",
   "id": "afc1a4fd-a3d2-4c06-8eb8-958fa86b0e81",
   "metadata": {},
   "source": [
    "## 7.5 Loading a pretrained LLM"
   ]
  },
  {
   "cell_type": "markdown",
   "id": "113e2156-ee2d-487f-87bc-c30aefcd9a9e",
   "metadata": {},
   "source": [
    "#### Now we load a pretrained GPT model that we want to fine-tune. Unlike before, when we loaded in the gpt-small model, this time we will load in the gpt-medium model because the small is too limited in capacity to achieve satisfactory results via instruction fine-tuning.\n",
    "\n",
    "<div style=\"max-width:1000px\">\n",
    "    \n",
    "![](images/7.5_1.png)\n",
    "\n",
    "</div>"
   ]
  },
  {
   "cell_type": "code",
   "execution_count": 20,
   "id": "91307b88-f70c-455c-ab4c-1925356ef147",
   "metadata": {},
   "outputs": [
    {
     "name": "stdout",
     "output_type": "stream",
     "text": [
      "\n"
     ]
    }
   ],
   "source": [
    "import os\n",
    "from previous_chapters import GPTModel\n",
    "\n",
    "BASE_CONFIG = {\n",
    "    \"vocab_size\": 50257,    # Vocabulary size\n",
    "    \"context_length\": 1024, # Context length\n",
    "    \"drop_rate\": 0.0,       # Dropout rate\n",
    "    \"qkv_bias\": True        # Query-key-value bias\n",
    "}\n",
    "\n",
    "model_configs = {\n",
    "    \"gpt2-small-124M\": {\"emb_dim\": 768, \"n_layers\": 12, \"n_heads\": 12},\n",
    "    \"gpt2-medium-355M\": {\"emb_dim\": 1024, \"n_layers\": 24, \"n_heads\": 16},\n",
    "    \"gpt2-large-774M\": {\"emb_dim\": 1280, \"n_layers\": 36, \"n_heads\": 20},\n",
    "    \"gpt2-xl-1558M\": {\"emb_dim\": 1600, \"n_layers\": 48, \"n_heads\": 25},\n",
    "}\n",
    "\n",
    "CHOOSE_MODEL = \"gpt2-medium-355M\"\n",
    "BASE_CONFIG.update(model_configs[CHOOSE_MODEL])\n",
    "\n",
    "file_name = f\"{CHOOSE_MODEL}.pth\"\n",
    "url = f\"https://huggingface.co/rasbt/gpt2-from-scratch-pytorch/resolve/main/{file_name}\"\n",
    "\n",
    "if not os.path.exists(file_name):\n",
    "    urllib.request.urlretrieve(url, file_name)\n",
    "    print(f\"Downloaded to {file_name}\")\n",
    "\n",
    "\n",
    "model = GPTModel(BASE_CONFIG).to(device)\n",
    "model.load_state_dict(torch.load(file_name, map_location=device, weights_only=True), strict=True)\n",
    "model.eval()\n",
    "print(\"\")"
   ]
  },
  {
   "cell_type": "markdown",
   "id": "4800235e-b431-4a5a-80a6-ee3dbb64a561",
   "metadata": {},
   "source": [
    "#### Lets assess the pretrained LLM's performance on one of the validation tasks by comparing its output to the expected response. "
   ]
  },
  {
   "cell_type": "code",
   "execution_count": 21,
   "id": "e3653f92-51a2-47f0-a8c9-11b371f2786a",
   "metadata": {},
   "outputs": [
    {
     "name": "stdout",
     "output_type": "stream",
     "text": [
      "Below is an instruction that describes a task. Write a response that appropriately completes the request.\n",
      "\n",
      "### Instruction:\n",
      "Convert the active sentence to passive: 'The chef cooks the meal every day.' \n"
     ]
    }
   ],
   "source": [
    "torch.manual_seed(123)\n",
    "input_text = format_input(val_data[0])\n",
    "print(input_text)"
   ]
  },
  {
   "cell_type": "code",
   "execution_count": 22,
   "id": "96939fd9-d970-4527-acf6-5d9da0bb2301",
   "metadata": {},
   "outputs": [],
   "source": [
    "from previous_chapters import text_to_token_ids, token_ids_to_text, generate\n",
    "\n",
    "idx = text_to_token_ids(input_text, tokenizer).to(device)\n",
    "token_ids = generate(model=model, idx=idx, max_new_tokens=35, context_size=BASE_CONFIG[\"context_length\"], eos_id=50256)\n",
    "generated_text = token_ids_to_text(token_ids, tokenizer)"
   ]
  },
  {
   "cell_type": "markdown",
   "id": "2fba46ad-eb4c-4c50-b894-a1f8dd79a796",
   "metadata": {},
   "source": [
    "#### The generate function concatenates the input and output text, but we only want to see the generated response so we can subtract the length of the input instruction from the start of generated text"
   ]
  },
  {
   "cell_type": "code",
   "execution_count": 23,
   "id": "52827b5c-e22b-4973-b748-f1f39c514208",
   "metadata": {},
   "outputs": [
    {
     "name": "stdout",
     "output_type": "stream",
     "text": [
      "__________________________________________\n",
      "\n",
      "### Instruction:\n",
      "\n",
      "Convert the active sentence to passive: 'The chef cooks the meal every day.' __________________________________________\n",
      "\n",
      "### Instruction\n"
     ]
    }
   ],
   "source": [
    "response_text = generated_text[len(input_text):].strip()\n",
    "print(response_text)"
   ]
  },
  {
   "cell_type": "markdown",
   "id": "a79c4cec-9866-4540-8211-58ef3f3d3772",
   "metadata": {},
   "source": [
    "## 7.6 Fine-tuning the LLM on instruction data"
   ]
  },
  {
   "cell_type": "markdown",
   "id": "2ab3e1a2-f050-4eb2-b3dc-9ff907e4a190",
   "metadata": {},
   "source": [
    "#### Now we take the loaded pretrained model and further train it using the previously prepared instruction dataset prepared earlier in the chaper. \n",
    "\n",
    "<div style=\"max-width:1000px\">\n",
    "    \n",
    "![](images/7.6_1.png)\n",
    "\n",
    "</div>"
   ]
  },
  {
   "cell_type": "code",
   "execution_count": 24,
   "id": "e6114e66-eaa2-41b0-8312-b21fabf8a56d",
   "metadata": {},
   "outputs": [
    {
     "name": "stdout",
     "output_type": "stream",
     "text": [
      "Training loss: 3.788628101348877\n",
      "Validation loss: 3.97882661819458\n"
     ]
    }
   ],
   "source": [
    "from previous_chapters import calc_loss_loader\n",
    "torch.manual_seed(123)\n",
    "\n",
    "with torch.no_grad():\n",
    "    train_loss = calc_loss_loader(train_loader, model, device, num_batches=5)\n",
    "    val_loss = calc_loss_loader(val_loader, model, device, num_batches=5)\n",
    "torch.mps.empty_cache()\n",
    "\n",
    "print(\"Training loss:\", train_loss)\n",
    "print(\"Validation loss:\", val_loss)"
   ]
  },
  {
   "cell_type": "markdown",
   "id": "66a5a3a6-82ce-426b-9cc9-6a1949cd2238",
   "metadata": {},
   "source": [
    "#### Initial loss values are above, remember, our goal is to minimize the loss."
   ]
  },
  {
   "cell_type": "code",
   "execution_count": 25,
   "id": "f04b7fcd-2739-4db0-9e3b-589b1c296fe3",
   "metadata": {},
   "outputs": [
    {
     "name": "stdout",
     "output_type": "stream",
     "text": [
      "Ep 1 (Step 000000): Train loss 3.072, Val loss 3.095\n",
      "Ep 1 (Step 000100): Train loss 0.874, Val loss 1.017\n",
      "Ep 1 (Step 000200): Train loss 0.666, Val loss 0.978\n",
      "Ep 1 (Step 000300): Train loss 0.572, Val loss 0.878\n",
      "Ep 1 (Step 000400): Train loss 0.941, Val loss 0.846\n",
      "Ep 1 (Step 000500): Train loss 0.747, Val loss 0.842\n",
      "Ep 1 (Step 000600): Train loss 0.657, Val loss 0.816\n",
      "Ep 1 (Step 000700): Train loss 0.569, Val loss 0.721\n",
      "Ep 1 (Step 000800): Train loss 0.437, Val loss 0.739\n",
      "Ep 1 (Step 000900): Train loss 0.374, Val loss 0.623\n",
      "Below is an instruction that describes a task. Write a response that appropriately completes the request.  ### Instruction: Convert the active sentence to passive: 'The chef cooks the meal every day.'   ###Response: The meal is prepared by the chef every day.<|endoftext|>The chef prepares the meal every day.<|endoftext|>The following is an instruction that describes a task. Write a response that appropriately completes the request.  ### Instruction:\n",
      "Ep 2 (Step 001000): Train loss 0.445, Val loss 0.674\n",
      "Ep 2 (Step 001100): Train loss 0.632, Val loss 0.718\n",
      "Ep 2 (Step 001200): Train loss 0.367, Val loss 0.700\n",
      "Ep 2 (Step 001300): Train loss 0.380, Val loss 0.638\n",
      "Ep 2 (Step 001400): Train loss 0.458, Val loss 0.659\n",
      "Ep 2 (Step 001500): Train loss 0.386, Val loss 0.671\n",
      "Ep 2 (Step 001600): Train loss 0.357, Val loss 0.625\n",
      "Ep 2 (Step 001700): Train loss 0.246, Val loss 0.527\n",
      "Ep 2 (Step 001800): Train loss 0.311, Val loss 0.590\n",
      "Below is an instruction that describes a task. Write a response that appropriately completes the request.  ### Instruction: Convert the active sentence to passive: 'The chef cooks the meal every day.'   ###Response: The chef prepares the meal every day.<|endoftext|>The following is an instruction that describes a task. Write a response that appropriately completes the request.  ### Input: The chef prepares the meal every day.  \n",
      "Training completed in 12.89 minutes.\n"
     ]
    }
   ],
   "source": [
    "from previous_chapters import train_model_simple\n",
    "import time\n",
    "\n",
    "start_time = time.time()\n",
    "torch.manual_seed(123)\n",
    "optimizer = torch.optim.AdamW(model.parameters(), lr=0.0000625, weight_decay=0.1)\n",
    "num_epochs = 2\n",
    "\n",
    "train_losses, val_losses, tokens_seen = train_model_simple(\n",
    "    model, train_loader, val_loader, optimizer, device, num_epochs=num_epochs, eval_freq=10, eval_iter=5, start_context=format_input(val_data[0]), tokenizer=tokenizer\n",
    ")\n",
    "\n",
    "end_time = time.time()\n",
    "execution_time_minutes = (end_time - start_time) / 60\n",
    "print(f\"Training completed in {execution_time_minutes:.2f} minutes.\")"
   ]
  },
  {
   "cell_type": "markdown",
   "id": "0f8811b0-9e4b-4c49-b5d2-70798e6e33ff",
   "metadata": {},
   "source": [
    "#### The training output shows the model is learning effectively, as we can tell by the consistently decreasing training and validation loss over the two epochs. \n",
    "\n",
    "#### We will revisit and evaluate the response quality of the model in more detail later. For now lets examine the training loss and validation curvees to gain additional insight into the model's learning process."
   ]
  },
  {
   "cell_type": "code",
   "execution_count": 26,
   "id": "2d57470a-8657-49fc-a22b-88437f660454",
   "metadata": {},
   "outputs": [
    {
     "data": {
      "image/png": "[encoded data removed]",
      "text/plain": [
       "<Figure size 500x300 with 2 Axes>"
      ]
     },
     "metadata": {},
     "output_type": "display_data"
    }
   ],
   "source": [
    "from previous_chapters import plot_losses\n",
    "# Alternatively:\n",
    "# from llms_from_scratch.ch05 import plot_losses\n",
    "\n",
    "epochs_tensor = torch.linspace(0, num_epochs, len(train_losses))\n",
    "plot_losses(epochs_tensor, tokens_seen, train_losses, val_losses)"
   ]
  },
  {
   "cell_type": "markdown",
   "id": "684c567a-eb06-469e-b766-6fc231d74ad6",
   "metadata": {},
   "source": [
    "#### From the loss plot shown above, we can see that the model's performance on both the training and validation sets improves substantially over the course of training. Then as training progresses to the second epoch, the losses continue to decrease but at a slower rate, suggesting that the model is fine-tuning its learned representations and converging to a stable solution."
   ]
  },
  {
   "cell_type": "markdown",
   "id": "1221f5aa-fe3a-4e82-bffe-a925bc8cdedb",
   "metadata": {},
   "source": [
    "## 7.7 Extracting and saving responses"
   ]
  },
  {
   "cell_type": "markdown",
   "id": "fb6029d2-f852-46d2-b808-d38a8897c1f0",
   "metadata": {},
   "source": [
    "#### Having fine-tuned the model on the training portion of the instruction dataset, we are now ready to evaluate its performance on the held-out test set. \n",
    "\n",
    "#### First, we extract the model-generated responses for each input in the test dataset and collect them for the manual analysis, and then we evaluate the LLM to quantify the quality of the responses.\n",
    "<div style=\"max-width:1000px\">\n",
    "    \n",
    "![](images/7.7_1.png)\n",
    "\n",
    "</div>"
   ]
  },
  {
   "cell_type": "markdown",
   "id": "8a113413-4d2a-40e9-bbad-c644619a022c",
   "metadata": {},
   "source": [
    "#### To complete the response instruction step, we use the generate function. We then print the model responses alongside the expected test set answers for the first three test set entries."
   ]
  },
  {
   "cell_type": "code",
   "execution_count": 28,
   "id": "3f3210dc-1c73-4562-ad15-97181f2c4202",
   "metadata": {},
   "outputs": [
    {
     "name": "stdout",
     "output_type": "stream",
     "text": [
      "Below is an instruction that describes a task. Write a response that appropriately completes the request.\n",
      "\n",
      "### Instruction:\n",
      "Rewrite the sentence using a simile.\n",
      "\n",
      "### Input:\n",
      "The car is very fast.\n",
      "\n",
      "Correct response:\n",
      ">> The car is as fast as lightning.\n",
      "\n",
      "Model response:\n",
      ">> The car is as fast as a bullet.\n",
      "--------------------------------------\n",
      "Below is an instruction that describes a task. Write a response that appropriately completes the request.\n",
      "\n",
      "### Instruction:\n",
      "What type of cloud is typically associated with thunderstorms? \n",
      "\n",
      "Correct response:\n",
      ">> The type of cloud typically associated with thunderstorms is cumulonimbus.\n",
      "\n",
      "Model response:\n",
      ">> The type of cloud is a cumulus (thin) cumulus (thin) cloud.\n",
      "--------------------------------------\n",
      "Below is an instruction that describes a task. Write a response that appropriately completes the request.\n",
      "\n",
      "### Instruction:\n",
      "Name the author of 'Pride and Prejudice'. \n",
      "\n",
      "Correct response:\n",
      ">> Jane Austen.\n",
      "\n",
      "Model response:\n",
      ">> The author of 'Pride and Prejudice' is Jane Austen.\n",
      "--------------------------------------\n"
     ]
    }
   ],
   "source": [
    "torch.manual_seed(123)\n",
    "\n",
    "for entry in test_data[:3]:\n",
    "    input_text = format_input(entry)\n",
    "    token_ids = generate(model=model, idx=text_to_token_ids(input_text, tokenizer).to(device), max_new_tokens=256, context_size=BASE_CONFIG[\"context_length\"], eos_id=50256)\n",
    "    \n",
    "    generated_text = token_ids_to_text(token_ids, tokenizer)\n",
    "    response_text = generated_text[len(input_text):].replace(\"###Response:\", \"\").strip()\n",
    "\n",
    "    print(input_text)\n",
    "    print(f\"\\nCorrect response:\\n>> {entry['output']}\")\n",
    "    print(f\"\\nModel response:\\n>> {response_text.strip()}\")\n",
    "    print(\"--------------------------------------\")"
   ]
  },
  {
   "cell_type": "markdown",
   "id": "0a5532b3-2469-459b-8f09-71c3b1b435ef",
   "metadata": {},
   "source": [
    "#### As we can see based on the test set instructions, given response, and the model's responses, the model performs relatively well.\n",
    "\n",
    "#### More importantly, model evaluation is not as straightforward as it for classification fine-tuning, where we simply calculate the percentage of correct spam/non-spam class labels to obtain the classification accuracy. In practice, instruction fine-tuned LLMs such as chatbots are evaluated via multiple approaches:\n",
    "- #### Short answer and multiple choice benchmarks\n",
    "- #### Human preference comparison to other LLMs\n",
    "- #### Automated conversational benchmarks\n",
    "\n",
    "#### In practice it is useful to consider all three types of evaluation methods, however, since we are primarily interested in assessing conversational performance rather than just the ability to answer multiple choice questions, human evaluation and automated metrics may be more relevant"
   ]
  },
  {
   "cell_type": "markdown",
   "id": "bab3ec8c-6ed3-4542-bf0b-051d4d85fd86",
   "metadata": {},
   "source": [
    "#### Human evaluations, while providing valuable insights, is relatively laborious and time consuming. Reading and assigning ratings to all 1,100 responses would require significant amount of effort. \n",
    "\n",
    "#### So, we implement an approach similar to conversational benchmarks, which involves evaluating the responses automatically using another LLM. This allows us to efficiently assess the quality of the generated responses without the need for extensive human involvement. \n",
    "\n",
    "#### We will use another LLM to evaluated our fine-tuned models responses, however instead of rely on a public benchmark dataset, we will use our own custom set. This allows for more targeted and relevant assessment of the model's performance within the context of our intended use case.\n",
    "\n",
    "#### To prepare responses for this evaluation process, we appened the generated responses to the test_set dictionary, and save the updated data as an \"instruction-data-with-response.json\" file for record keeping. The following code will iterate over the entire test set and append the responses to the test_set dictionary."
   ]
  },
  {
   "cell_type": "code",
   "execution_count": 31,
   "id": "c220a4f2-2d09-47d6-837b-f0a5552a3383",
   "metadata": {},
   "outputs": [],
   "source": [
    "for i, entry in enumerate(test_data):\n",
    "    input_text = format_input(entry)\n",
    "\n",
    "    token_ids = generate(\n",
    "        model=model,\n",
    "        idx=text_to_token_ids(input_text, tokenizer).to(device),\n",
    "        max_new_tokens=256,\n",
    "        context_size=BASE_CONFIG[\"context_length\"],\n",
    "        eos_id=50256\n",
    "    )\n",
    "\n",
    "    generated_text = token_ids_to_text(token_ids, tokenizer)\n",
    "    response_text = generated_text[len(input_text):].replace(\"###Response:\", \"\").strip()\n",
    "    test_data[i][\"model_response\"] = response_text\n",
    "\n",
    "with open(\"instruction-data-with-response.json\", \"w\") as f:\n",
    "    json.dump(test_data, f, indent=4)"
   ]
  },
  {
   "cell_type": "code",
   "execution_count": 32,
   "id": "b5946c4e-18bc-4c44-a20c-05f720db2f37",
   "metadata": {},
   "outputs": [
    {
     "name": "stdout",
     "output_type": "stream",
     "text": [
      "{'instruction': 'Rewrite the sentence using a simile.', 'input': 'The car is very fast.', 'output': 'The car is as fast as lightning.', 'model_response': 'The car is as fast as a bullet.'}\n"
     ]
    }
   ],
   "source": [
    "print(test_data[0])"
   ]
  },
  {
   "cell_type": "markdown",
   "id": "183fb1b2-e4f8-4a63-bbb3-8c9caf30835a",
   "metadata": {},
   "source": [
    "#### Lets save the model before we proceed."
   ]
  },
  {
   "cell_type": "code",
   "execution_count": 34,
   "id": "d142296b-5148-475c-8c0b-2c8d7d687bec",
   "metadata": {},
   "outputs": [
    {
     "name": "stdout",
     "output_type": "stream",
     "text": [
      "Model saved as gpt2-medium-355M-sft.pth\n"
     ]
    }
   ],
   "source": [
    "import re\n",
    "\n",
    "file_name = f\"{re.sub(r'[ ()]', '', CHOOSE_MODEL) }-sft.pth\"\n",
    "torch.save(model.state_dict(), file_name)\n",
    "print(f\"Model saved as {file_name}\")\n",
    "\n",
    "# Load model via\n",
    "# model.load_state_dict(torch.load(\"gpt2-medium355M-sft.pth\"))"
   ]
  },
  {
   "cell_type": "markdown",
   "id": "528e2b48-3b03-4559-846d-9ce65c0ee002",
   "metadata": {},
   "source": [
    "## 7.8 Evaluating the fine-tuned LLM"
   ]
  },
  {
   "cell_type": "markdown",
   "id": "36716aab-8625-49cc-b2ab-15652c1aad4a",
   "metadata": {},
   "source": [
    "#### We previously judged the performance of the model of an instruction-fine-tuned model by looking at its responses on three examples of the test set. Now we implemente a method to automate the response evaluation of the fine-tuned LLM using another, larger LLM.\n",
    "\n",
    "<div style=\"max-width:1000px\">\n",
    "    \n",
    "![](images/7.8_1.png)\n",
    "\n",
    "</div>\n",
    "\n",
    "#### We will utilize an existing instruction fine-tuned model, Llama 3. Download an application called Ollama and make sure it is running. The following code will verify that the Ollama session is running properly before we use it to evaluate the test set responses."
   ]
  },
  {
   "cell_type": "code",
   "execution_count": 43,
   "id": "2bec410b-e1a2-4b7e-af95-1a3cd1ee9ff6",
   "metadata": {},
   "outputs": [
    {
     "name": "stdout",
     "output_type": "stream",
     "text": [
      "Ollama running: True\n"
     ]
    }
   ],
   "source": [
    "import psutil\n",
    "\n",
    "def check_if_running(process_name):\n",
    "    running = False\n",
    "    for proc in psutil.process_iter([\"name\"]):\n",
    "        if process_name in proc.info[\"name\"]:\n",
    "            running = True\n",
    "            break\n",
    "    return running\n",
    "\n",
    "ollama_running = check_if_running(\"ollama\")\n",
    "if not ollama_running:\n",
    "    raise RuntimeError(\"Ollama is not running. Launch it before proceeding.\")\n",
    "print(\"Ollama running:\", ollama_running)"
   ]
  },
  {
   "cell_type": "markdown",
   "id": "d01ba089-4edf-419c-90ec-56210a75d6b1",
   "metadata": {},
   "source": [
    "#### The following code interacts with Ollama using its REST API"
   ]
  },
  {
   "cell_type": "code",
   "execution_count": 40,
   "id": "a1ba4af6-2baf-4f6b-b791-af7b0cb954fe",
   "metadata": {},
   "outputs": [],
   "source": [
    "import urllib.request as req\n",
    "def query_model(prompt, model=\"llama3.2\", url=\"http://localhost:11434/api/chat\"):\n",
    "    data = {\n",
    "        \"model\": model,\n",
    "        \"messages\": [\n",
    "            {\"role\": \"user\", \"content\": prompt}\n",
    "        ],\n",
    "        \"options\": {\n",
    "            \"seed\": 123,\n",
    "            \"temperature\": 0,\n",
    "            \"num_ctx\": 2048\n",
    "        }\n",
    "    }\n",
    "\n",
    "    payload = json.dumps(data).encode(\"utf-8\")\n",
    "    \n",
    "    request = req.Request(url, data=payload, method=\"POST\")\n",
    "    request.add_header(\"Content-Type\", \"application/json\")\n",
    "\n",
    "    response_data = \"\"\n",
    "    with req.urlopen(request) as response:\n",
    "        while True:\n",
    "            line = response.readline().decode(\"utf-8\")\n",
    "            if not line:\n",
    "                break\n",
    "            response_json = json.loads(line)\n",
    "            response_data += response_json[\"message\"][\"content\"]\n",
    "    return response_data"
   ]
  },
  {
   "cell_type": "code",
   "execution_count": 41,
   "id": "517ac210-cc01-4207-8aac-b03bd0e2ce58",
   "metadata": {},
   "outputs": [
    {
     "name": "stdout",
     "output_type": "stream",
     "text": [
      "Llamas are herbivores, which means they primarily eat plants and plant-based foods. Their diet typically consists of:\n",
      "\n",
      "1. Grasses: Llamas love to graze on various types of grasses, including tall grasses, short grasses, and grassy weeds.\n",
      "2. Hay: High-quality hay, such as timothy or alfalfa, is a staple in a llama's diet. It provides essential nutrients like fiber, protein, and energy.\n",
      "3. Grains: Llamas may also be fed grains like oats, corn, or barley, but these should not make up more than 10-15% of their diet.\n",
      "4. Fruits and vegetables: Fresh fruits and vegetables, such as apples, carrots, and sweet potatoes, can be given to llamas as treats or added to their hay.\n",
      "5. Browse: Llamas may also eat browse, which includes leaves, twigs, and other vegetation from trees and shrubs.\n",
      "\n",
      "It's essential to note that llamas have a unique digestive system, with a four-chambered stomach and a large cecum (a specialized part of the large intestine). This allows them to break down and extract nutrients from plant material more efficiently than many other animals. As a result, llamas require a diet rich in fiber and low in protein.\n",
      "\n",
      "A balanced llama diet should include:\n",
      "\n",
      "* 70-80% hay\n",
      "* 10-20% grains\n",
      "* 5-10% fruits and vegetables\n",
      "* 1-2% browse\n",
      "\n",
      "It's always best to consult with a veterinarian or experienced llama breeder to determine the specific dietary needs of your llama.\n"
     ]
    }
   ],
   "source": [
    "model = \"llama3.2\"\n",
    "result = query_model(\"What do llamas eat?\", model)\n",
    "print(result)"
   ]
  },
  {
   "cell_type": "markdown",
   "id": "e87c1c33-834b-4d75-8dfe-ab22b0a8e819",
   "metadata": {},
   "source": [
    "#### Using the query_model function defined earlier, we can evalaute the responses generated by our fine-tuned model that prompts the Llama 3 model to rate our fine-tuned model's responses on a scale from 1 to 100 based on the given test set response as reference\n",
    "\n",
    "#### Lets first apply it to three examples from the tests set"
   ]
  },
  {
   "cell_type": "code",
   "execution_count": 42,
   "id": "6470d821-d7b4-42d0-8097-49e97fae24e2",
   "metadata": {},
   "outputs": [
    {
     "name": "stdout",
     "output_type": "stream",
     "text": [
      "\n",
      "Dataset response:\n",
      ">> The car is as fast as lightning.\n",
      "\n",
      "Model response:\n",
      ">> The car is as fast as a bullet.\n",
      "\n",
      "Score:\n",
      ">> To complete this task, I would rewrite the sentence using a simile.\n",
      "\n",
      "### Input:\n",
      "The car is very fast.\n",
      "### Output:\n",
      "The car is as fast as lightning.\n",
      "\n",
      "Now, let's evaluate the model response \"The car is as fast as a bullet.\" on a scale from 0 to 100:\n",
      "\n",
      "Score: 80\n",
      "\n",
      "This response uses a simile, which meets the requirement. However, it's not the most common or idiomatic way to express speed in this context. The original response \"as fast as lightning\" is more commonly used and evokes a stronger sense of speed and power. The model response \"as fast as a bullet\" is also acceptable but might be considered less vivid or memorable than the original.\n",
      "\n",
      "-------------------------\n",
      "\n",
      "Dataset response:\n",
      ">> The type of cloud typically associated with thunderstorms is cumulonimbus.\n",
      "\n",
      "Model response:\n",
      ">> The type of cloud is a cumulus (thin) cumulus (thin) cloud.\n",
      "\n",
      "Score:\n",
      ">> I would score the model response 0 out of 100.\n",
      "\n",
      "The correct output should be \"The type of cloud typically associated with thunderstorms is cumulonimbus.\" This response accurately identifies the type of cloud associated with thunderstorms and provides a clear and concise answer.\n",
      "\n",
      "The model response provided contains several errors:\n",
      "\n",
      "* The word \"is\" should not be followed by two separate instances of \"a\".\n",
      "* The description of the cloud as \"thin\" is incorrect, as cumulonimbus clouds are typically tall and dense.\n",
      "* The use of \"(thin) cumulus (thin) cloud\" is redundant and unclear.\n",
      "\n",
      "Overall, the model response does not provide an accurate or clear answer to the question, which is why it scores 0 out of 100.\n",
      "\n",
      "-------------------------\n",
      "\n",
      "Dataset response:\n",
      ">> Jane Austen.\n",
      "\n",
      "Model response:\n",
      ">> The author of 'Pride and Prejudice' is Jane Austen.\n",
      "\n",
      "Score:\n",
      ">> To answer this question correctly, I would need to be able to understand the context of the instruction and generate a response that meets the requirements.\n",
      "\n",
      "The correct output for the given input would be:\n",
      "\n",
      "\"The author of 'Pride and Prejudice' is Jane Austen.\"\n",
      "\n",
      "This response accurately completes the request by providing the name of the author of the book \"Pride and Prejudice\".\n",
      "\n",
      "As for scoring, I would give myself a score of 100% because the response directly answers the question without any additional information or context that might be required. The response is clear, concise, and accurate.\n",
      "\n",
      "However, if the instruction was to provide more context or details about Jane Austen, such as her biography or notable works, then my score would be lower, likely in the range of 80-90%.\n",
      "\n",
      "-------------------------\n"
     ]
    }
   ],
   "source": [
    "for entry in test_data[:3]:\n",
    "    prompt = (\n",
    "        f\"Given the input `{format_input(entry)}` \"\n",
    "        f\"and the correct output `{entry[\"output\"]}`, \"\n",
    "        f\"score the model response `{entry[\"model_response\"]}` \"\n",
    "        f\"on a scale from 0 to 100, where 100 is the best score.\"\n",
    "    )\n",
    "    print(\"\\nDataset response:\")\n",
    "    print(\">>\", entry['output'])\n",
    "    print(\"\\nModel response:\")\n",
    "    print(\">>\", entry[\"model_response\"])\n",
    "    print(\"\\nScore:\")\n",
    "    print(\">>\", query_model(prompt))\n",
    "    print(\"\\n-------------------------\")"
   ]
  },
  {
   "cell_type": "markdown",
   "id": "6d39a5c8-9af3-4d79-81a1-3a87ebb6fbd1",
   "metadata": {},
   "source": [
    "#### The generated responses show how the LLama3 model is able to provide a score for the model outputs. We can modify the previous prompt to request LLama3 to only generate an integer score from 0 to 100. This change allows us to calculate an average score for our model. "
   ]
  },
  {
   "cell_type": "code",
   "execution_count": 48,
   "id": "0d24e1d9-1544-46a2-bd8f-30831b2891d4",
   "metadata": {},
   "outputs": [],
   "source": [
    "def generate_model_scores(json_data, json_key, model='llama3.2'):\n",
    "    scores = []\n",
    "    for entry in json_data:\n",
    "        prompt = (\n",
    "        f\"Given the input `{format_input(entry)}` \"\n",
    "        f\"and the correct output `{entry[\"output\"]}`, \"\n",
    "        f\"score the model response `{entry[json_key]}` \"\n",
    "        f\"on a scale from 0 to 100, where 100 is the best score. \"\n",
    "        f\"Only Respond with the integer score on a scale from 0 to 100, no other text.\"\n",
    "    )\n",
    "        score = query_model(prompt, model)\n",
    "        try:\n",
    "            scores.append(int(score))\n",
    "        except ValueError:\n",
    "            print(f\"Could not convert score: {score}\")\n",
    "            continue\n",
    "\n",
    "    return scores"
   ]
  },
  {
   "cell_type": "markdown",
   "id": "a2603648-391d-4765-b60f-53774b00dc54",
   "metadata": {},
   "source": [
    "#### We can now apply the generate_model_scores function to the entire test_data set"
   ]
  },
  {
   "cell_type": "code",
   "execution_count": 49,
   "id": "7adf98b3-9821-4b96-8b0a-540b0aff5372",
   "metadata": {},
   "outputs": [
    {
     "name": "stdout",
     "output_type": "stream",
     "text": [
      "Number of scores: 110 of 110\n",
      "Average score: 45.64\n",
      "\n"
     ]
    }
   ],
   "source": [
    "scores = generate_model_scores(test_data, \"model_response\")\n",
    "print(f\"Number of scores: {len(scores)} of {len(test_data)}\")\n",
    "print(f\"Average score: {sum(scores)/len(scores):.2f}\\n\")"
   ]
  },
  {
   "cell_type": "markdown",
   "id": "604748e5-11ce-4d51-b8f1-69615031ab28",
   "metadata": {},
   "source": [
    "#### The evaluation output shows that our fine-tuned model achieves an average score of 46, which provides a useful benchmark for comparison against other models or for experimenting with different training configurations to improve the models performance."
   ]
  }
 ],
 "metadata": {
  "kernelspec": {
   "display_name": "Python 3 (ipykernel)",
   "language": "python",
   "name": "python3"
  },
  "language_info": {
   "codemirror_mode": {
    "name": "ipython",
    "version": 3
   },
   "file_extension": ".py",
   "mimetype": "text/x-python",
   "name": "python",
   "nbconvert_exporter": "python",
   "pygments_lexer": "ipython3",
   "version": "3.12.2"
  }
 },
 "nbformat": 4,
 "nbformat_minor": 5
}
