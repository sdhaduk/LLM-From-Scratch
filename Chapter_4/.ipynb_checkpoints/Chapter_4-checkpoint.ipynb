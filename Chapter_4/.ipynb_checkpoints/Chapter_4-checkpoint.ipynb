{
 "cells": [
  {
   "cell_type": "code",
   "execution_count": 1,
   "id": "4730a706-4cd6-454d-89a8-1b1b995058c9",
   "metadata": {},
   "outputs": [],
   "source": [
    "import torch\n",
    "import torch.nn as nn"
   ]
  },
  {
   "cell_type": "markdown",
   "id": "e29f8964-746f-4d64-96c9-386c65b1bf86",
   "metadata": {},
   "source": [
    "# Chapter 4: Implementing a GPT model from scratch to generate text"
   ]
  },
  {
   "cell_type": "markdown",
   "id": "f404fd46-595a-453e-8a44-067991509ea5",
   "metadata": {},
   "source": [
    "## 4.1 Coding an LLM Architecture"
   ]
  },
  {
   "attachments": {},
   "cell_type": "markdown",
   "id": "1ebba246-92ae-48dc-819c-2524ac1eb5dc",
   "metadata": {},
   "source": [
    "<h4>\n",
    "    \n",
    "We previously used smaller embedding dimensionality for simplicity, but now we are scaling up to the size of the small GPT-2 model, specifically, the smallest version with 124 million parameters.\n",
    "\n",
    "In the context of deep learning, parameters refers to the trainable weights of the model that are adjusted and optimized during the training rocess to mininmize a specific loss function, this optimization allows the model to learn from the training data. For example, in a NN that is represented by a 2048x2048-dimensional matrix of weight, each element in the matrix is a paramter. This means this specific model would have 2048<sup>2</sup> parameters (4,194,304).\n",
    "\n",
    "<br>\n",
    "<br>\n",
    "\n",
    "This is the architecture of a GPT model and what we will have built by the end of this chapter\n",
    "\n",
    "<div style=\"max-width:500px\">\n",
    "    \n",
    "![](images/4.1_1.png)\n",
    "\n",
    "</div>\n",
    "\n",
    "<br>\n",
    "<br>\n",
    "\n",
    "This figure illustrates the order in which we tackle the individual concepts required to code the final GPT architecture\n",
    "\n",
    "<div style=\"max-width:500px\">\n",
    "    \n",
    "![](images/4.1_2.png)\n",
    "\n",
    "</div>\n",
    "\n",
    "\n",
    "    \n",
    "</h4>"
   ]
  },
  {
   "cell_type": "code",
   "execution_count": 2,
   "id": "6780cc5e-4320-4271-bc5b-16c639f8f694",
   "metadata": {},
   "outputs": [],
   "source": [
    "GPT_CONFIG_124M = {\n",
    "    \"vocab_size\": 50257,\n",
    "    \"context_length\": 1024, \n",
    "    \"emb_dim\": 768,\n",
    "    \"n_heads\": 12,\n",
    "    \"n_layers\": 12,\n",
    "    \"drop_rate\": 0.1,\n",
    "    \"qkv_bias\": False\n",
    "}"
   ]
  },
  {
   "cell_type": "code",
   "execution_count": 3,
   "id": "48eb6584-4d6b-4a78-b876-8c013fb4e14d",
   "metadata": {},
   "outputs": [],
   "source": [
    "class DummyGPTModel(nn.Module):\n",
    "    def __init__(self, cfg):\n",
    "        super().__init__()\n",
    "        self.tok_emb = nn.Embedding(cfg[\"vocab_size\"], cfg[\"emb_dim\"])\n",
    "        self.pos_emb = nn.Embedding(cfg[\"context_length\"], cfg[\"emb_dim\"])\n",
    "        self.drop_emb = nn.Dropout(cfg[\"drop_rate\"])\n",
    "        self.trf_blocks = nn.Sequential(*[DummyTransformerBlock(cfg) for _ in range(cfg[\"n_layers\"])])\n",
    "        self.final_norm = DummyLayerNorm(cfg[\"emb_dim\"])\n",
    "        self.out_head = nn.Linear(cfg[\"emb_dim\"], cfg[\"vocab_size\"], bias=False)\n",
    "\n",
    "    def forward(self, in_idx):\n",
    "        batch_size, seq_len = in_idx.shape\n",
    "        tok_embeds = self.tok_emb(in_idx)\n",
    "        pos_embeds = self.pos_emb(torch.arange(seq_len, device=in_idx.device))\n",
    "        x = tok_embeds + pos_embeds\n",
    "        x = self.drop_emb(x)\n",
    "        x = self.trf_blocks(x)\n",
    "        x = self.final_norm(x)\n",
    "        logits = self.out_head(x)\n",
    "        return logits"
   ]
  },
  {
   "cell_type": "code",
   "execution_count": 4,
   "id": "daf1682b-1baf-4be4-89ab-4cb9b7c87489",
   "metadata": {},
   "outputs": [],
   "source": [
    "class DummyTransformerBlock(nn.Module):\n",
    "    def __init__(self, cfg):\n",
    "        super().__init__()\n",
    "\n",
    "    def forward(self, x):\n",
    "        return x"
   ]
  },
  {
   "cell_type": "code",
   "execution_count": 5,
   "id": "46532f16-458b-408b-a6a1-5ca0f3b9dd7f",
   "metadata": {},
   "outputs": [],
   "source": [
    "class DummyLayerNorm(nn.Module):\n",
    "    def __init__(self, normalized_shape, eps=1e-5):\n",
    "        super().__init__()\n",
    "\n",
    "    def forward(self, x):\n",
    "        return x"
   ]
  },
  {
   "cell_type": "markdown",
   "id": "a5e3edb2-996a-431a-af40-775073fc1a7d",
   "metadata": {},
   "source": [
    "<h4>\n",
    "\n",
    "Big picture overview showcasing how data is tokenized, embedded, and fed into the GPT model. The output embeddings represent the context vectors\n",
    "\n",
    "\n",
    "<div style=\"max-width:800px\">\n",
    "    \n",
    "![](images/4.1_3.png)\n",
    "\n",
    "</div>\n",
    "    \n",
    "</h4>"
   ]
  },
  {
   "cell_type": "code",
   "execution_count": 60,
   "id": "687a56e6-11bf-4207-ad4d-c9c3ab495fc1",
   "metadata": {},
   "outputs": [
    {
     "name": "stdout",
     "output_type": "stream",
     "text": [
      "[tensor([6109, 3626, 6100,  345]), tensor([6109, 1110, 6622,  257])] \n",
      "\n",
      "tensor([[6109, 3626, 6100,  345],\n",
      "        [6109, 1110, 6622,  257]])\n"
     ]
    }
   ],
   "source": [
    "import tiktoken\n",
    "\n",
    "tokenizer = tiktoken.get_encoding(\"gpt2\")\n",
    "batch = []\n",
    "txt1 = \"Every effort moves you\"\n",
    "txt2 = \"Every day holds a\"\n",
    "\n",
    "batch.append(torch.tensor(tokenizer.encode(txt1)))\n",
    "batch.append(torch.tensor(tokenizer.encode(txt2)))\n",
    "print(batch,\"\\n\")\n",
    "batch = torch.stack(batch, dim=0)\n",
    "print(batch)"
   ]
  },
  {
   "cell_type": "code",
   "execution_count": 61,
   "id": "30775c9c-f40f-4306-bb67-b92d28597864",
   "metadata": {},
   "outputs": [
    {
     "name": "stdout",
     "output_type": "stream",
     "text": [
      "Output shape: torch.Size([2, 4, 50257])\n",
      "tensor([[[-1.2034,  0.3201, -0.7130,  ..., -1.5548, -0.2390, -0.4667],\n",
      "         [-0.1192,  0.4539, -0.4432,  ...,  0.2392,  1.3469,  1.2430],\n",
      "         [ 0.5307,  1.6720, -0.4695,  ...,  1.1966,  0.0111,  0.5835],\n",
      "         [ 0.0139,  1.6754, -0.3388,  ...,  1.1586, -0.0435, -1.0400]],\n",
      "\n",
      "        [[-1.0908,  0.1798, -0.9484,  ..., -1.6047,  0.2439, -0.4530],\n",
      "         [-0.7860,  0.5581, -0.0610,  ...,  0.4835, -0.0077,  1.6621],\n",
      "         [ 0.3567,  1.2698, -0.6398,  ..., -0.0162, -0.1296,  0.3717],\n",
      "         [-0.2407, -0.7349, -0.5102,  ...,  2.0057, -0.3694,  0.1814]]],\n",
      "       grad_fn=<UnsafeViewBackward0>)\n"
     ]
    }
   ],
   "source": [
    "torch.manual_seed(123)\n",
    "model = DummyGPTModel(GPT_CONFIG_124M)\n",
    "logits = model(batch)\n",
    "print(\"Output shape:\", logits.shape)\n",
    "print(logits)"
   ]
  },
  {
   "cell_type": "markdown",
   "id": "a2f1f935-47c4-4169-809d-20c3b78ffd95",
   "metadata": {},
   "source": [
    "## 4.2 Normalizing activations with layer normalization"
   ]
  },
  {
   "cell_type": "markdown",
   "id": "537983e0-c5bd-4639-8d0d-668a85e0ec9c",
   "metadata": {},
   "source": [
    "<h4>\n",
    "\n",
    "Problems like vanishing gradient or exploding gradient can lead to unstable training dynamics and make it difficult for the network to adjust its weights, resulting in difficulty to find a set of parameters (weights) that minimizes the loss function during training.\n",
    "\n",
    "The main idea of layer normalization is to adjust the activations (outputs) of a neural network layer to have a mean of 0 and a variance of 1, also known as unit variance. This adjustment will speed up the time it takes to converge, and will ensure reliable training.\n",
    "\n",
    "In modern LLM architectures, layer normalization is applied before and after the multi-head attention module, and, before the final output layer.\n",
    "\n",
    "<div style=\"max-width:500px\">\n",
    "    \n",
    "![](images/4.2_1.png)\n",
    "\n",
    "</div>\n",
    "\n",
    "    \n",
    "</h4>"
   ]
  },
  {
   "cell_type": "code",
   "execution_count": 8,
   "id": "0f1e74a7-faaf-4a2b-85fc-6f9b27c34ea6",
   "metadata": {},
   "outputs": [
    {
     "name": "stdout",
     "output_type": "stream",
     "text": [
      "tensor([[-0.1115,  0.1204, -0.3696, -0.2404, -1.1969],\n",
      "        [ 0.2093, -0.9724, -0.7550,  0.3239, -0.1085]]) \n",
      "\n",
      "tensor([[0.2260, 0.3470, 0.0000, 0.2216, 0.0000, 0.0000],\n",
      "        [0.2133, 0.2394, 0.0000, 0.5198, 0.3297, 0.0000]],\n",
      "       grad_fn=<ReluBackward0>)\n"
     ]
    }
   ],
   "source": [
    "torch.manual_seed(123)\n",
    "batch_example = torch.randn(2, 5)\n",
    "print(batch_example, \"\\n\")\n",
    "layer = nn.Sequential(nn.Linear(5, 6), nn.ReLU())\n",
    "out = layer(batch_example)\n",
    "print(out)"
   ]
  },
  {
   "cell_type": "code",
   "execution_count": 9,
   "id": "aec26d13-1d18-4523-975f-0dbb97309463",
   "metadata": {},
   "outputs": [
    {
     "name": "stdout",
     "output_type": "stream",
     "text": [
      "Mean:\n",
      " tensor([[0.1324],\n",
      "        [0.2170]], grad_fn=<MeanBackward1>)\n",
      "Variance:\n",
      " tensor([[0.0231],\n",
      "        [0.0398]], grad_fn=<VarBackward0>)\n"
     ]
    }
   ],
   "source": [
    "mean = out.mean(dim=-1, keepdim=True)\n",
    "var = out.var(dim=-1, keepdim=True)\n",
    "print(\"Mean:\\n\", mean)\n",
    "print(\"Variance:\\n\", var)"
   ]
  },
  {
   "cell_type": "markdown",
   "id": "3229a00a-c1bd-46f8-83fa-2ca3b74cee50",
   "metadata": {},
   "source": [
    "<h4>\n",
    "\n",
    "If we have a two-dimensional tensor (matrix) with dimensions [rows, columns], using dim=0 will perform the operation across rows (vertically, as shown at the bottom), resulting in an outpout that aggregates on the data for each column. Using dim=1 (or -1) will perform the operation across columns (horizontally, as shown at the top), resulting in an output aggregating the data for each row\n",
    "\n",
    "\n",
    "<div style=\"max-width:800px\">\n",
    "    \n",
    "![](images/4.2_2.png)\n",
    "\n",
    "</div>\n",
    "\n",
    "    \n",
    "</h4>"
   ]
  },
  {
   "cell_type": "code",
   "execution_count": 10,
   "id": "327f967a-abf2-445c-afdf-1be69d37baad",
   "metadata": {},
   "outputs": [
    {
     "name": "stdout",
     "output_type": "stream",
     "text": [
      "tensor([[1, 2],\n",
      "        [3, 4]]) \n",
      "\n",
      "tensor([[4, 6]]) \n",
      "\n",
      "tensor([[3],\n",
      "        [7]])\n"
     ]
    }
   ],
   "source": [
    "test = torch.arange(1, 5).reshape(2, 2)\n",
    "print(test, \"\\n\")\n",
    "print(test.sum(dim=0, keepdim=True), '\\n')\n",
    "print(test.sum(dim=1, keepdim=True))"
   ]
  },
  {
   "cell_type": "code",
   "execution_count": 11,
   "id": "7fba25d3-a970-47d8-99c7-9fd80f016bdd",
   "metadata": {},
   "outputs": [
    {
     "name": "stdout",
     "output_type": "stream",
     "text": [
      "Normalized layer outputs:\n",
      " tensor([[ 0.6159,  1.4126, -0.8719,  0.5872, -0.8719, -0.8719],\n",
      "        [-0.0189,  0.1121, -1.0876,  1.5173,  0.5647, -1.0876]],\n",
      "       grad_fn=<DivBackward0>)\n",
      "Mean:\n",
      " tensor([[-5.9605e-08],\n",
      "        [ 1.9868e-08]], grad_fn=<MeanBackward1>)\n",
      "Var:\n",
      " tensor([[1.0000],\n",
      "        [1.0000]], grad_fn=<VarBackward0>)\n"
     ]
    }
   ],
   "source": [
    "out_norm = (out - mean) / torch.sqrt(var)\n",
    "mean = out_norm.mean(dim=-1, keepdim=True)\n",
    "var = out_norm.var(dim=-1, keepdim=True)\n",
    "print(\"Normalized layer outputs:\\n\", out_norm)\n",
    "print(\"Mean:\\n\", mean)\n",
    "print(\"Var:\\n\", var)"
   ]
  },
  {
   "cell_type": "code",
   "execution_count": 12,
   "id": "f1916709-d9db-4eee-b324-fd956867d46a",
   "metadata": {},
   "outputs": [],
   "source": [
    "class LayerNorm(nn.Module):\n",
    "    def __init__(self, emb_dim):\n",
    "        super().__init__()\n",
    "        self.eps = 1e-5\n",
    "        self.scale = nn.Parameter(torch.ones(emb_dim))\n",
    "        self.shift = nn.Parameter(torch.zeros(emb_dim))\n",
    "\n",
    "    def forward(self, x):\n",
    "        mean = x.mean(dim=-1, keepdim=True)\n",
    "        var = x.var(dim=-1, keepdim=True, unbiased=False)\n",
    "        norm_x = (x - mean) / torch.sqrt(var + self.eps)\n",
    "        return self.scale * norm_x + self.shift"
   ]
  },
  {
   "cell_type": "code",
   "execution_count": 13,
   "id": "dcff214e-7344-4122-b03d-8b74652f78d1",
   "metadata": {},
   "outputs": [
    {
     "name": "stdout",
     "output_type": "stream",
     "text": [
      "Mean:\n",
      " tensor([[-2.9802e-08],\n",
      "        [ 0.0000e+00]], grad_fn=<MeanBackward1>)\n",
      "Var:\n",
      " tensor([[1.0000],\n",
      "        [1.0000]], grad_fn=<VarBackward0>)\n"
     ]
    }
   ],
   "source": [
    "ln = LayerNorm(emb_dim=5)\n",
    "out_ln = ln(batch_example)\n",
    "mean = out_ln.mean(dim=-1, keepdim=True)\n",
    "var = out_ln.var(dim=-1, keepdim=True, unbiased=False)\n",
    "print(\"Mean:\\n\", mean)\n",
    "print(\"Var:\\n\", var)"
   ]
  },
  {
   "cell_type": "markdown",
   "id": "09b4b4ab-8c4d-44d9-945a-882db4b15a28",
   "metadata": {},
   "source": [
    "<h4>\n",
    "\n",
    "We have now implemented two of the building blocks necessary to complete the GPT architecture, next we will look at the GELU activation function, which is one of the activation functions used in LLMs, instead of the traditional ReLU function we used previously.\n",
    "\n",
    "<div style=\"max-width:600px\">\n",
    "    \n",
    "![](images/4.2_3.png)\n",
    "\n",
    "</div>\n",
    "\n",
    "    \n",
    "</h4>"
   ]
  },
  {
   "cell_type": "markdown",
   "id": "a2926854-1231-4938-8086-8b267d09cdb1",
   "metadata": {},
   "source": [
    "## 4.3 Implementing a feed forward network with GELU activations"
   ]
  },
  {
   "cell_type": "markdown",
   "id": "ff59e5d1-691d-4507-b8e0-d730d2cb80de",
   "metadata": {},
   "source": [
    "<h4>\n",
    "\n",
    "Next, we implement a small neural network submodule used as part of the transformer block in LLMs. We begin by implementing GELU activation function, which plays a crucial role in this neural network submodule.\n",
    "\n",
    "Several other activation functions such as GELU (<i>Gaussian error linear unit<i>) and SwiGLU (<i>Swish-gated linear unit</i>) are used over ReLU because they offer improved performance for deep learning models, unlike the simpler ReLU.\n",
    "\n",
    "GELU = input_x * cumulative distribution function of the standard Gaussian distribution of x\n",
    "\n",
    "However, in practice is common to implement a computationally cheaper approximation that was found via curve fitting.\n",
    "\n",
    "<div style=\"max-width:500px\">\n",
    "    \n",
    "![](images/4.3_1.png)\n",
    "\n",
    "</div>\n",
    "\n",
    "    \n",
    "</h4>"
   ]
  },
  {
   "cell_type": "code",
   "execution_count": 14,
   "id": "38df94da-92f2-49ce-9579-7aa2f1859c8b",
   "metadata": {},
   "outputs": [],
   "source": [
    "class GELU(nn.Module):\n",
    "    def __init__(self):\n",
    "        super().__init__()\n",
    "\n",
    "    def forward(self, x):\n",
    "        return 0.5 * x * (1 + torch.tanh(\n",
    "            torch.sqrt(torch.tensor(2.0 / torch.pi)) * \n",
    "            (x + 0.044715 * torch.pow(x, 3))\n",
    "        ))"
   ]
  },
  {
   "cell_type": "code",
   "execution_count": 15,
   "id": "bf86bcba-6b9b-4977-b60b-983c5d2c1ded",
   "metadata": {},
   "outputs": [
    {
     "data": {
      "image/png": "[encoded data removed]",
      "text/plain": [
       "<Figure size 800x300 with 2 Axes>"
      ]
     },
     "metadata": {},
     "output_type": "display_data"
    }
   ],
   "source": [
    "import matplotlib.pyplot as plt\n",
    "gelu, relu = GELU(), nn.ReLU()\n",
    "\n",
    "x = torch.linspace(-3, 3, 100)\n",
    "y_gelu, y_relu = gelu(x), relu(x)\n",
    "\n",
    "plt.figure(figsize=(8, 3))\n",
    "for i, (y, label) in enumerate(zip([y_gelu, y_relu], [\"GELU\", \"RELU\"]), 1):\n",
    "    plt.subplot(1, 2, i)\n",
    "    plt.plot(x, y)\n",
    "    plt.title(f\"{label} activation function\")\n",
    "    plt.xlabel(\"x\")\n",
    "    plt.ylabel(f\"{label}(x)\")\n",
    "    plt.grid(True)\n",
    "plt.tight_layout()\n",
    "plt.show()"
   ]
  },
  {
   "cell_type": "markdown",
   "id": "12e75b28-84e2-4458-aa22-f0fd00bbf640",
   "metadata": {},
   "source": [
    "<h4>\n",
    "\n",
    "The smoothness of GELU can lead to better optimization properties during training, as it allows for more nuanced adjustments during training. In contrast, ReLU's sharp corner at zero can sometimes make optimizations harder, especially in very deep and complex architectures. \n",
    "\n",
    "Moreover, GELU allows for small, non-zero output for negative values. This means that during the training process, neurons that receive negative input can still contribute to the learning process, albeit to a lesser extent than positive inputs\n",
    "\n",
    "    \n",
    "</h4>"
   ]
  },
  {
   "cell_type": "code",
   "execution_count": 16,
   "id": "93e005fd-7c86-45e3-8846-e6e5159e8d14",
   "metadata": {},
   "outputs": [],
   "source": [
    "class FeedForward(nn.Module):\n",
    "    def __init__(self, cfg):\n",
    "        super().__init__()\n",
    "        self.layers = nn.Sequential(\n",
    "            nn.Linear(cfg[\"emb_dim\"], 4 * cfg[\"emb_dim\"]),\n",
    "            GELU(),\n",
    "            nn.Linear(4 * cfg[\"emb_dim\"], cfg[\"emb_dim\"])\n",
    "        )\n",
    "\n",
    "    def forward(self, x):\n",
    "        return self.layers(x)"
   ]
  },
  {
   "cell_type": "markdown",
   "id": "a21d5ca7-763c-403d-9f85-70a1c996ffd7",
   "metadata": {},
   "source": [
    "<div style=\"max-width:500px\">\n",
    "    \n",
    "![](images/4.3_2.png)\n",
    "\n",
    "</div>"
   ]
  },
  {
   "cell_type": "code",
   "execution_count": 17,
   "id": "836e19d3-35f8-45e4-9b7c-95be34578bd0",
   "metadata": {},
   "outputs": [
    {
     "name": "stdout",
     "output_type": "stream",
     "text": [
      "torch.Size([2, 3, 768])\n"
     ]
    }
   ],
   "source": [
    "ffn = FeedForward(GPT_CONFIG_124M)\n",
    "\n",
    "x = torch.rand(2, 3, 768)\n",
    "out = ffn(x)\n",
    "print(out.shape)"
   ]
  },
  {
   "cell_type": "markdown",
   "id": "148af54a-19cc-482b-9d24-efeffd3be55a",
   "metadata": {},
   "source": [
    "<h4>\n",
    "\n",
    "The FeedForward module plays a crucial role in enhancing the model's ability to learn from and generalize the data. It internally expands the embedding dimension into a higher dimensional space through the first linear layer, then performs the GELU activation and then a contraction back to the original dimension with the second linear transformation.\n",
    "\n",
    "Moreover, the uniformity in input and output dimensions simplifies the architecture by enabling the stacking of multiple layers without the need to adjust dimensions between them, thus making the model more scalable\n",
    "\n",
    "</h4>\n",
    "\n",
    "<div style=\"max-width:700px\">\n",
    "    \n",
    "![](images/4.3_3.png)\n",
    "\n",
    "</div>\n"
   ]
  },
  {
   "cell_type": "markdown",
   "id": "f75c4c8c-3a0e-48e4-b399-bc00b9935cf8",
   "metadata": {},
   "source": [
    "## 4.4 Adding shortcut connections"
   ]
  },
  {
   "cell_type": "markdown",
   "id": "b506dd53-7976-4937-ab72-089f294f10e3",
   "metadata": {},
   "source": [
    "<h4>\n",
    "\n",
    "Shortcut connections create an alternative, shorter path for the gradient to flow through the network by skipping one or mmore layers, which is achieved by adding the output of one layer to the output of a lateral layer. They play a crucial role in perserving the flow of gradients during the backward pass during training. This mitigates the challenge of vanishing gradients.\n",
    "\n",
    "<div style=\"max-width:800px\">\n",
    "    \n",
    "![](images/4.4_1.png)\n",
    "\n",
    "</div>\n",
    "\n",
    "    \n",
    "</h4>"
   ]
  },
  {
   "cell_type": "code",
   "execution_count": 18,
   "id": "3c3c31ae-2a9d-4553-ba33-52709f2b3a96",
   "metadata": {},
   "outputs": [],
   "source": [
    "class ExampleDeepNeuralNetwork(nn.Module):\n",
    "    def __init__(self, layer_sizes, use_shortcut):\n",
    "        super().__init__()\n",
    "        self.use_shortcut = use_shortcut\n",
    "        self.layers = nn.ModuleList([\n",
    "            nn.Sequential(nn.Linear(layer_sizes[0], layer_sizes[1]), \n",
    "                          GELU()),\n",
    "            nn.Sequential(nn.Linear(layer_sizes[1], layer_sizes[2]), \n",
    "                          GELU()),\n",
    "            nn.Sequential(nn.Linear(layer_sizes[2], layer_sizes[3]), \n",
    "                          GELU()),\n",
    "            nn.Sequential(nn.Linear(layer_sizes[3], layer_sizes[4]), \n",
    "                          GELU()),\n",
    "            nn.Sequential(nn.Linear(layer_sizes[4], layer_sizes[5]), \n",
    "                          GELU())\n",
    "        ])\n",
    "\n",
    "    def forward(self, x):\n",
    "        for layer in self.layers:\n",
    "            layer_output = layer(x)\n",
    "            if self.use_shortcut and x.shape == layer_output.shape:\n",
    "                x = x + layer_output\n",
    "            else:\n",
    "                x = layer_output\n",
    "        return x"
   ]
  },
  {
   "cell_type": "code",
   "execution_count": 19,
   "id": "541f4f95-ef79-4327-9774-5ab812bcd05f",
   "metadata": {},
   "outputs": [],
   "source": [
    "layer_sizes = [3, 3, 3, 3, 3, 1]\n",
    "sample_input = torch.tensor([[1., 0., -1.]])\n",
    "torch.manual_seed(123)\n",
    "model_without_shortcut = ExampleDeepNeuralNetwork(layer_sizes, use_shortcut=False)"
   ]
  },
  {
   "cell_type": "code",
   "execution_count": 20,
   "id": "8fcb8ad8-5d8c-4ebd-9fe9-10174592bfca",
   "metadata": {},
   "outputs": [],
   "source": [
    "def print_gradients(model, x):\n",
    "    output = model(x)\n",
    "    target = torch.tensor([[0.]])\n",
    "    loss = nn.MSELoss()\n",
    "    loss = loss(output, target)\n",
    "\n",
    "    loss.backward()\n",
    "\n",
    "    for name, param in model.named_parameters():\n",
    "        if 'weight' in name:\n",
    "            print(f\"{name} has gradient mean of {param.grad.abs().mean().item()}\")"
   ]
  },
  {
   "cell_type": "markdown",
   "id": "b871cbbd-64d5-4c05-9bb5-6586544e91e0",
   "metadata": {},
   "source": [
    "<h4>\n",
    "\n",
    "This code picks a loss function to compute how close the model output and the user-specified target (0 here) are. Then calling loss.backward() instructs PyTorch to compute the loss gradient for each layer in the model. Suppose there is a 3x3 weight matrix for a given layer, in that case a layer will have 9 gradient values of which we are printing the mean absolute gradient for every layer.\n",
    "    \n",
    "</h4>"
   ]
  },
  {
   "cell_type": "code",
   "execution_count": 21,
   "id": "b56a4850-41e7-4cef-b5c5-44aef42e86fd",
   "metadata": {},
   "outputs": [
    {
     "name": "stdout",
     "output_type": "stream",
     "text": [
      "layers.0.0.weight has gradient mean of 0.00020173587836325169\n",
      "layers.1.0.weight has gradient mean of 0.00012011159560643137\n",
      "layers.2.0.weight has gradient mean of 0.0007152039906941354\n",
      "layers.3.0.weight has gradient mean of 0.0013988736318424344\n",
      "layers.4.0.weight has gradient mean of 0.005049645435065031\n"
     ]
    }
   ],
   "source": [
    "print_gradients(model_without_shortcut, sample_input) # notice how the gradient diminishes as you get from the last layer (4) to the first layer (0)"
   ]
  },
  {
   "cell_type": "code",
   "execution_count": 22,
   "id": "730313cb-0a05-4286-b09f-4b17f6b4f912",
   "metadata": {},
   "outputs": [
    {
     "name": "stdout",
     "output_type": "stream",
     "text": [
      "layers.0.0.weight has gradient mean of 0.22169792652130127\n",
      "layers.1.0.weight has gradient mean of 0.20694106817245483\n",
      "layers.2.0.weight has gradient mean of 0.32896995544433594\n",
      "layers.3.0.weight has gradient mean of 0.2665732204914093\n",
      "layers.4.0.weight has gradient mean of 1.3258540630340576\n"
     ]
    }
   ],
   "source": [
    "torch.manual_seed(123)\n",
    "model_with_shortcut = ExampleDeepNeuralNetwork(layer_sizes, use_shortcut=True)\n",
    "print_gradients(model_with_shortcut, sample_input)"
   ]
  },
  {
   "cell_type": "markdown",
   "id": "faa4fc28-1b67-4547-b1fb-25153fce3c0b",
   "metadata": {},
   "source": [
    "## 4.5 Connecting attention and linear layers in a transformer block"
   ]
  },
  {
   "cell_type": "markdown",
   "id": "a5f979b3-1767-439c-bbfc-826ce6498c40",
   "metadata": {},
   "source": [
    "<h4>\n",
    "\n",
    "Now we will implement the transformer block, a fundamental building block of GPT and other LLM architectures. It combines multi-head attention, layer normalization, dropout, feedforward layers, and GELU activations. Later, it will be connected to the remaining parts of the GPT architecture.\n",
    "\n",
    "When a transformer block processes an input sequence, each token is represented by a fixed-size vector (768 in this case). The computations in this transformer block are designed to transform the vector in a way that preserves their dimensionality. \n",
    "\n",
    "<div style=\"max-width:800px\">\n",
    "    \n",
    "![](images/4.5_1.png)\n",
    "\n",
    "</div>\n",
    "\n",
    "    \n",
    "</h4>"
   ]
  },
  {
   "cell_type": "code",
   "execution_count": 66,
   "id": "fa24f286-2362-4328-bac3-84005b0c5dcf",
   "metadata": {},
   "outputs": [],
   "source": [
    "class MultiHeadAttention(nn.Module):\n",
    "    def __init__(self, d_in, d_out, context_length, dropout, num_heads, qkv_bias=False):\n",
    "        super().__init__()\n",
    "        assert(d_out % num_heads == 0), \\\n",
    "        \"d_out must be divisible by num_heads\"\n",
    "\n",
    "        self.d_out = d_out\n",
    "        self.num_heads = num_heads\n",
    "        self.head_dim = d_out // num_heads # Reduces the projection dim to match the desired output dim\n",
    "        self.W_query = nn.Linear(d_in, d_out, bias=qkv_bias)\n",
    "        self.W_key = nn.Linear(d_in, d_out, bias=qkv_bias)\n",
    "        self.W_value = nn.Linear(d_in, d_out, bias=qkv_bias)\n",
    "        self.out_proj = nn.Linear(d_out, d_out) # Linear layer to combine head outputs\n",
    "        self.dropout = nn.Dropout(dropout)\n",
    "        self.register_buffer('mask', torch.triu(torch.ones(context_length, context_length), diagonal=1))\n",
    "\n",
    "    def forward(self, x):\n",
    "        b, num_tokens, d_in = x.shape \n",
    "        keys = self.W_key(x)            # shape: (b, num_tokens, d_out)\n",
    "        queries = self.W_query(x)        # ^\n",
    "        values = self.W_value(x)         # ^\n",
    "        \n",
    "        keys = keys.view(b, num_tokens, self.num_heads, self.head_dim)\n",
    "        values = values.view(b, num_tokens, self.num_heads, self.head_dim)\n",
    "        queries = queries.view(b, num_tokens, self.num_heads, self.head_dim)\n",
    "\n",
    "        keys = keys.transpose(1, 2)\n",
    "        queries = queries.transpose(1, 2)\n",
    "        values = values.transpose(1, 2)\n",
    "\n",
    "        attn_scores = queries @ keys.transpose(2, 3)\n",
    "        mask_bool = self.mask.bool()[:num_tokens, :num_tokens]\n",
    "\n",
    "        attn_scores.masked_fill_(mask_bool, -torch.inf)\n",
    "\n",
    "        attn_weights = torch.softmax(attn_scores / keys.shape[-1] ** 0.5, dim=-1)\n",
    "        attn_weights = self.dropout(attn_weights)\n",
    "\n",
    "        context_vec = (attn_weights @ values).transpose(1, 2)\n",
    "        \n",
    "        context_vec = context_vec.contiguous().view(b, num_tokens, self.d_out)\n",
    "        \n",
    "        context_vec = self.out_proj(context_vec)\n",
    "\n",
    "        return context_vec"
   ]
  },
  {
   "cell_type": "code",
   "execution_count": 55,
   "id": "b3651dfd-b0ef-41f7-9bc0-0c01eb627b9d",
   "metadata": {},
   "outputs": [],
   "source": [
    "class TransformerBlock(nn.Module):\n",
    "    def __init__(self, cfg):\n",
    "        super().__init__()\n",
    "        self.att = MultiHeadAttention(\n",
    "            d_in=cfg[\"emb_dim\"],\n",
    "            d_out=cfg[\"emb_dim\"],\n",
    "            context_length=cfg[\"context_length\"],\n",
    "            num_heads=cfg[\"n_heads\"],\n",
    "            dropout=cfg[\"drop_rate\"],\n",
    "            qkv_bias=cfg[\"qkv_bias\"]\n",
    "        )\n",
    "        self.ff = FeedForward(cfg)\n",
    "        self.norm1 = LayerNorm(cfg[\"emb_dim\"])\n",
    "        self.norm2 = LayerNorm(cfg[\"emb_dim\"])\n",
    "        self.drop_shortcut = nn.Dropout(cfg[\"drop_rate\"])\n",
    "\n",
    "    def forward(self, x):\n",
    "        shortcut = x\n",
    "        x = self.norm1(x)\n",
    "        x = self.att(x)\n",
    "        x = self.drop_shortcut(x)\n",
    "        x = x + shortcut\n",
    "\n",
    "        shortcut = x\n",
    "        x = self.norm2(x)\n",
    "        x = self.ff(x)\n",
    "        x = self.drop_shortcut(x)\n",
    "        x = x + shortcut\n",
    "        return x"
   ]
  },
  {
   "cell_type": "code",
   "execution_count": 56,
   "id": "1f84736d-3cc0-4758-840b-002346bd223c",
   "metadata": {},
   "outputs": [
    {
     "name": "stdout",
     "output_type": "stream",
     "text": [
      "W_key.weight.shape: torch.Size([768, 768])\n",
      "queries.shape: torch.Size([2, 12, 4, 64])\n",
      "attn_weights.shape x values.shape: torch.Size([2, 12, 4, 4]) x torch.Size([2, 12, 4, 64])\n",
      "context_vec.shape: torch.Size([2, 4, 12, 64])\n",
      "\n",
      "\n",
      "Input shape: torch.Size([2, 4, 768])\n",
      "Output shape: torch.Size([2, 4, 768])\n"
     ]
    }
   ],
   "source": [
    "torch.manual_seed(123)\n",
    "x = torch.rand(2, 4, 768)\n",
    "block = TransformerBlock(GPT_CONFIG_124M)\n",
    "output = block(x)\n",
    "print(\"\\n\")\n",
    "print(\"Input shape:\", x.shape)\n",
    "print(\"Output shape:\", output.shape)"
   ]
  },
  {
   "cell_type": "markdown",
   "id": "d2777511-1022-4221-ac00-435f3a1fa1a6",
   "metadata": {},
   "source": [
    "<h4>\n",
    "\n",
    "This preservation of shape throughout the transformer block architecture is not incidental, but a crucial aspect of its design. It allows for effective application across a wide range of sequence-to-sequence tasks, where each output vector directly corresponds to an input vector, maintaining a one-to-one relationship.\n",
    "\n",
    "With the transformer block implemented, we now have all the building blocks necessary to implement the GPT architecture. \n",
    "\n",
    "<div style=\"max-width:500px\">\n",
    "    \n",
    "![](images/4.5_2.png)\n",
    "\n",
    "</div>\n",
    "\n",
    "</h4>"
   ]
  },
  {
   "cell_type": "markdown",
   "id": "a4f60796-9328-4fd9-b3ca-4530b0e4cfd6",
   "metadata": {},
   "source": [
    "## 4.6 Coding the GPT model"
   ]
  },
  {
   "cell_type": "markdown",
   "id": "580d93ba-8d71-460f-b445-0bec2494ef8e",
   "metadata": {},
   "source": [
    "<h4>\n",
    "\n",
    "This is an overview of the GPT model architecture showing how data flows through the model. Starting at the beginning, tokenized text is converted into token embeddings, then modified to include positional embeddings. This forms a tensor that is sequentially passed through transformer blocks (12 for this model) of which the number depends on the models size and specific architecture. Each of these transformer blocks contains multi-head attention and feedforward neural network layers with dropout and layer normalization.\n",
    "\n",
    "<div style=\"max-width:600px\">\n",
    "    \n",
    "![](images/4.6_1.png)\n",
    "\n",
    "</div>\n",
    "\n",
    "    \n",
    "</h4>"
   ]
  },
  {
   "cell_type": "code",
   "execution_count": 57,
   "id": "459be6b3-5296-41a9-a118-65f4e1202dba",
   "metadata": {},
   "outputs": [],
   "source": [
    "class GPTModel(nn.Module):\n",
    "    def __init__(self, cfg):\n",
    "        super().__init__()\n",
    "        self.tok_emb = nn.Embedding(cfg[\"vocab_size\"], cfg[\"emb_dim\"])\n",
    "        self.pos_emb = nn.Embedding(cfg[\"context_length\"], cfg[\"emb_dim\"])\n",
    "        self.drop_emb = nn.Dropout(cfg[\"drop_rate\"])\n",
    "\n",
    "        self.trf_blocks = nn.Sequential(\n",
    "            *[TransformerBlock(cfg) for _ in range(cfg[\"n_layers\"])]\n",
    "        )\n",
    "        self.final_norm = LayerNorm(cfg[\"emb_dim\"])\n",
    "        self.out_head = nn.Linear(\n",
    "            cfg[\"emb_dim\"], cfg[\"vocab_size\"], bias=False\n",
    "        )\n",
    "\n",
    "    def forward(self, in_idx):\n",
    "        batch_size, seq_len = in_idx.shape\n",
    "        tok_embeds = self.tok_emb(in_idx)\n",
    "\n",
    "        pos_embeds = self.pos_emb(\n",
    "            torch.arange(seq_len, device=in_idx.device)\n",
    "        )\n",
    "        x = tok_embeds + pos_embeds\n",
    "        x = self.drop_emb(x)\n",
    "        x = self.trf_blocks(x)\n",
    "        x = self.final_norm(x)\n",
    "        logits = self.out_head(x)\n",
    "        return logits"
   ]
  },
  {
   "cell_type": "markdown",
   "id": "1790330e-7712-4afc-a1d0-5d07375313a8",
   "metadata": {},
   "source": [
    "<h4>\n",
    "    \n",
    "In the constructor:\n",
    "    \n",
    "1. Initializes the token and positional embedding matrix \n",
    "2. Creates a sequential stack of transformer blocks equal to the number of layers specified in the cfg\n",
    "3. Initializes a final LayerNorm for the output the transformer block stack\n",
    "4. Initializes a linear output head that projects the output into the vocabulary space of the tokenizer to generate logits for each token in the vocab\n",
    "\n",
    "In the forward:\n",
    "1. Takes a batch of input token indices and computes their word and positional embeddings\n",
    "2. Combines them into one tensor, then passes it through the series of transformer blocks\n",
    "3. Applies the final LayerNorm to the output\n",
    "4. Then computes the logits, representing the next token's unormalized probabilities\n",
    "\n",
    "</h4>"
   ]
  },
  {
   "cell_type": "code",
   "execution_count": 67,
   "id": "8408be7e-2814-48f0-8f93-a5d2ee46d27c",
   "metadata": {},
   "outputs": [
    {
     "name": "stdout",
     "output_type": "stream",
     "text": [
      "Input batch:\n",
      " tensor([[6109, 3626, 6100,  345],\n",
      "        [6109, 1110, 6622,  257]])\n",
      "\n",
      "Output shape: torch.Size([2, 4, 50257])\n",
      "tensor([[[ 0.3613,  0.4222, -0.0711,  ...,  0.3483,  0.4661, -0.2838],\n",
      "         [-0.1792, -0.5660, -0.9485,  ...,  0.0477,  0.5181, -0.3168],\n",
      "         [ 0.7120,  0.0332,  0.1085,  ...,  0.1018, -0.4327, -0.2553],\n",
      "         [-1.0076,  0.3418, -0.1190,  ...,  0.7195,  0.4023,  0.0532]],\n",
      "\n",
      "        [[-0.2564,  0.0900,  0.0335,  ...,  0.2659,  0.4454, -0.6806],\n",
      "         [ 0.1230,  0.3653, -0.2074,  ...,  0.7705,  0.2710,  0.2246],\n",
      "         [ 1.0558,  1.0318, -0.2800,  ...,  0.6936,  0.3205, -0.3178],\n",
      "         [-0.1565,  0.3926,  0.3288,  ...,  1.2630, -0.1858,  0.0388]]],\n",
      "       grad_fn=<UnsafeViewBackward0>)\n"
     ]
    }
   ],
   "source": [
    "torch.manual_seed(123)\n",
    "model = GPTModel(GPT_CONFIG_124M)\n",
    "\n",
    "out = model(batch)\n",
    "print(\"Input batch:\\n\", batch)\n",
    "print(\"\\nOutput shape:\", out.shape)\n",
    "print(out)"
   ]
  },
  {
   "cell_type": "code",
   "execution_count": 68,
   "id": "2d84fcdd-1ada-42ea-b925-e44ee5c4920e",
   "metadata": {},
   "outputs": [
    {
     "name": "stdout",
     "output_type": "stream",
     "text": [
      "Total number of parameters: 163,009,536\n"
     ]
    }
   ],
   "source": [
    "total_params = sum(p.numel() for p in model.parameters())\n",
    "print(f\"Total number of parameters: {total_params:,}\")"
   ]
  },
  {
   "cell_type": "markdown",
   "id": "7e04e7d0-290c-4b6e-a845-384d5de97b8f",
   "metadata": {},
   "source": [
    "<h4>\n",
    "\n",
    "Why does this model have more parameters than the 124-million parameter GPT model we were trying create ?\n",
    "\n",
    "The reason is weight tying. Meaning, the original GPT-2 architecture reuses the weights from the token embedding layer in its output layer. \n",
    "\n",
    "    \n",
    "</h4>"
   ]
  },
  {
   "cell_type": "code",
   "execution_count": 70,
   "id": "2b52869d-f0d8-407a-a880-67d4770dc148",
   "metadata": {},
   "outputs": [
    {
     "name": "stdout",
     "output_type": "stream",
     "text": [
      "Token embedding layer shape: torch.Size([50257, 768])\n",
      "Output layer shape: torch.Size([50257, 768])\n"
     ]
    }
   ],
   "source": [
    "print(\"Token embedding layer shape:\", model.tok_emb.weight.shape)\n",
    "print(\"Output layer shape:\", model.out_head.weight.shape)"
   ]
  },
  {
   "cell_type": "code",
   "execution_count": 73,
   "id": "536c9399-64fc-4d3f-a1c5-15f5d84328b0",
   "metadata": {},
   "outputs": [
    {
     "name": "stdout",
     "output_type": "stream",
     "text": [
      "Number of trainable parameters considering weight tying: 124,412,160\n"
     ]
    }
   ],
   "source": [
    "# lets remove the output layer parameter count from the total GPT-2 model count\n",
    "total_params_gpt2 = (total_params - sum(p.numel() for p in model.out_head.parameters()))\n",
    "print(f\"Number of trainable parameters considering weight tying: {total_params_gpt2:,}\")\n"
   ]
  },
  {
   "cell_type": "markdown",
   "id": "ba9c91e2-0fee-46ec-b5c6-3461ee2cf591",
   "metadata": {},
   "source": [
    "<h4>\n",
    "\n",
    "Weight tying reduces overall computation complexity of the model. However, in the authors experience, he has observed that using two seperate token embedding and output layers result in a better model. Therefore, we will keep the matrices seperate, instead of using the same matrix for both operations\n",
    "    \n",
    "</h4>"
   ]
  },
  {
   "cell_type": "markdown",
   "id": "29b67097-330b-47b3-ae8b-9fcadcd0e785",
   "metadata": {},
   "source": [
    "####################### Exercise 4.1 ############################"
   ]
  },
  {
   "cell_type": "code",
   "execution_count": 90,
   "id": "674699c6-2327-40b7-8b0e-60fb2f3ed946",
   "metadata": {},
   "outputs": [
    {
     "name": "stdout",
     "output_type": "stream",
     "text": [
      "56,669,184\n"
     ]
    }
   ],
   "source": [
    "ffn_params = (sum(p.numel() for p in model.trf_blocks[0].ff.parameters())) * 12\n",
    "print(f\"{ffn_params:,}\")"
   ]
  },
  {
   "cell_type": "code",
   "execution_count": 94,
   "id": "3a1af5bb-9c4f-479f-8725-6e5555375510",
   "metadata": {},
   "outputs": [
    {
     "name": "stdout",
     "output_type": "stream",
     "text": [
      "28,320,768\n"
     ]
    }
   ],
   "source": [
    "mha_params = (sum(p.numel() for p in model.trf_blocks[0].att.parameters())) * 12\n",
    "print(f\"{mha_params:,}\")"
   ]
  },
  {
   "cell_type": "markdown",
   "id": "d0fc3c3e-feec-4814-b5a0-8ee0382bfd33",
   "metadata": {},
   "source": [
    "##############################################################"
   ]
  },
  {
   "cell_type": "code",
   "execution_count": 96,
   "id": "f9ee7cd7-8e69-4a35-b792-c97c9306da83",
   "metadata": {},
   "outputs": [
    {
     "name": "stdout",
     "output_type": "stream",
     "text": [
      "Total size of the model: 621.83 MB\n"
     ]
    }
   ],
   "source": [
    "# memory requirements of the 163 million parameter model\n",
    "\n",
    "total_size_bytes = total_params * 4\n",
    "total_size_mb = total_size_bytes / (1024 * 1024)\n",
    "print(f\"Total size of the model: {total_size_mb:.2f} MB\")"
   ]
  },
  {
   "cell_type": "markdown",
   "id": "6c50c882-ca85-44ea-8583-0d59acfca0ab",
   "metadata": {},
   "source": [
    "####################### Exercise 4.2 ############################"
   ]
  },
  {
   "cell_type": "code",
   "execution_count": 103,
   "id": "8dfab3da-044c-45a9-9120-98b92802eeae",
   "metadata": {},
   "outputs": [],
   "source": [
    "GPT_CONFIG_M = {\n",
    "    \"vocab_size\": 50257,\n",
    "    \"context_length\": 1024, \n",
    "    \"emb_dim\": 1024,\n",
    "    \"n_heads\": 16,\n",
    "    \"n_layers\": 24,\n",
    "    \"drop_rate\": 0.1,\n",
    "    \"qkv_bias\": False\n",
    "}"
   ]
  },
  {
   "cell_type": "code",
   "execution_count": 104,
   "id": "9b33a9ef-52f8-4c18-9fca-e90ae962d33a",
   "metadata": {},
   "outputs": [],
   "source": [
    "GPT_CONFIG_L = {\n",
    "    \"vocab_size\": 50257,\n",
    "    \"context_length\": 1024, \n",
    "    \"emb_dim\": 1280,\n",
    "    \"n_heads\": 20,\n",
    "    \"n_layers\": 36,\n",
    "    \"drop_rate\": 0.1,\n",
    "    \"qkv_bias\": False\n",
    "}"
   ]
  },
  {
   "cell_type": "code",
   "execution_count": 108,
   "id": "ac452591-eb8c-4c4c-9d41-a1ea3def09f0",
   "metadata": {},
   "outputs": [],
   "source": [
    "GPT_CONFIG_XL = {\n",
    "    \"vocab_size\": 50257,\n",
    "    \"context_length\": 1024, \n",
    "    \"emb_dim\": 1600,\n",
    "    \"n_heads\": 25,\n",
    "    \"n_layers\": 48,\n",
    "    \"drop_rate\": 0.1,\n",
    "    \"qkv_bias\": False\n",
    "}"
   ]
  },
  {
   "cell_type": "code",
   "execution_count": 109,
   "id": "52aba8e4-8eeb-4fa3-924f-1debfd0864d6",
   "metadata": {},
   "outputs": [],
   "source": [
    "gpt_medium_model = GPTModel(GPT_CONFIG_M)\n",
    "gpt_large_model = GPTModel(GPT_CONFIG_L)\n",
    "gpt_xlarge_model = GPTModel(GPT_CONFIG_XL)"
   ]
  },
  {
   "cell_type": "code",
   "execution_count": 119,
   "id": "1482ae22-7c3e-42e4-aac4-0ead8d351eb6",
   "metadata": {},
   "outputs": [
    {
     "name": "stdout",
     "output_type": "stream",
     "text": [
      "GPT2-medium has parameter count: 406,212,608\n",
      "\n",
      "GPT2-large has parameter count: 838,220,800\n",
      "\n",
      "GPT2-xl has parameter count: 1,637,792,000\n",
      "\n"
     ]
    }
   ],
   "source": [
    "def param_count(model):\n",
    "    total = sum(p.numel() for p in model.parameters())\n",
    "    return total\n",
    "          \n",
    "print(f\"GPT2-medium has parameter count: {param_count(gpt_medium_model):,}\\n\")\n",
    "print(f\"GPT2-large has parameter count: {param_count(gpt_large_model):,}\\n\")\n",
    "print(f\"GPT2-xl has parameter count: {param_count(gpt_xlarge_model):,}\\n\")"
   ]
  },
  {
   "cell_type": "markdown",
   "id": "ee82ba77-9724-4302-afbb-caaa4a687174",
   "metadata": {},
   "source": [
    "################################################################"
   ]
  },
  {
   "cell_type": "markdown",
   "id": "7cd49ff5-f651-4e99-a88b-aeab67351a9c",
   "metadata": {},
   "source": [
    "## 4.7 Generating Text"
   ]
  },
  {
   "cell_type": "markdown",
   "id": "b36b50dc-0cd5-4189-bf77-445854c4b722",
   "metadata": {},
   "source": [
    "<h4>\n",
    "\n",
    "In this section, we implement the code that turns these output tensors into text.\n",
    "\n",
    "<div style=\"max-width:600px\">\n",
    "    \n",
    "![](images/4.7_1.png)\n",
    "\n",
    "</div>\n",
    "\n",
    "This image showcases how text is generated by a generative model like GPT. With each iteration, the input context grows by appending the previously predicted word to the input context.\n",
    "There are a multitude of steps involved in the process that GPT goes through when taking an output tensor and generating text.\n",
    "\n",
    "1. Decoding the output tensors\n",
    "2. Selecting tokens based on the probability distribution\n",
    "3. Converting these tokens into human-readable text\n",
    "\n",
    "<div style=\"max-width:700px\">\n",
    "    \n",
    "![](images/4.7_2.png)\n",
    "\n",
    "</div>\n",
    "\n",
    "This image showcases a single step in the text generation process. \n",
    "\n",
    "</h4>"
   ]
  },
  {
   "cell_type": "code",
   "execution_count": 120,
   "id": "02fc7223-17c4-4879-b21d-0cea9b531383",
   "metadata": {},
   "outputs": [],
   "source": [
    "def generate_text_simple(model, idx, max_new_tokens, context_size):\n",
    "    for _ in range(max_new_tokens):\n",
    "        idx_cond = idx[:, -context_size:]\n",
    "        with torch.no_grad():\n",
    "            logits = model(idx_cond)\n",
    "\n",
    "        logits = logits[:, -1, :]\n",
    "        probas = torch.softmax(logits, dim=-1)\n",
    "        idx_next = torch.argmax(probas, dim=-1, keepdim=True)\n",
    "        idx = torch.cat((idx, idx_next), dim=1)\n",
    "\n",
    "    return idx"
   ]
  },
  {
   "cell_type": "markdown",
   "id": "a93417a0-32cf-4c18-b8e3-afdeb6a63170",
   "metadata": {},
   "source": [
    "<h4>\n",
    "\n",
    "This code is a simple implementation of a generative loop for a language model using PyTorch. It will iterate for a specified number of new tokens to be generated, crops the given context to the correct context_length for the model, computes predictions, then selected the next token based on the highest probability prediction (<b>greedy encoding</b>)\n",
    "\n",
    "In the next chapter, we will introduce sampling methods so that the model does not always select the most likely token. This will allow variability and creativity in the generated text. Also will prevent the same context generating the same output every time.\n",
    "    \n",
    "</h4>"
   ]
  },
  {
   "cell_type": "code",
   "execution_count": 123,
   "id": "db389cb3-bfe9-4720-8bad-151612e11ef6",
   "metadata": {},
   "outputs": [
    {
     "name": "stdout",
     "output_type": "stream",
     "text": [
      "encoded: [15496, 11, 314, 716] \n",
      "\n",
      "encoded_tensor.shape: torch.Size([1, 4])\n",
      "tensor([[15496,    11,   314,   716]])\n"
     ]
    }
   ],
   "source": [
    "start_context = \"Hello, I am\"\n",
    "encoded = tokenizer.encode(start_context)\n",
    "print(\"encoded:\", encoded,\"\\n\")\n",
    "encoded_tensor = torch.tensor(encoded).unsqueeze(0)\n",
    "print(\"encoded_tensor.shape:\", encoded_tensor.shape)\n",
    "print(encoded_tensor)"
   ]
  },
  {
   "cell_type": "code",
   "execution_count": 124,
   "id": "75f2f7fa-f3e0-45f7-ac55-e78466579589",
   "metadata": {},
   "outputs": [
    {
     "name": "stdout",
     "output_type": "stream",
     "text": [
      "Output: tensor([[15496,    11,   314,   716, 27018, 24086, 47843, 30961, 42348,  7267]])\n",
      "Output length: 10\n"
     ]
    }
   ],
   "source": [
    "# Put the model into eval mode to prevent random components ex. dropout, which are only used during traning\n",
    "\n",
    "model.eval()\n",
    "out = generate_text_simple(model=model, idx=encoded_tensor, max_new_tokens=6, context_size=GPT_CONFIG_124M[\"context_length\"])\n",
    "print(\"Output:\", out)\n",
    "print(\"Output length:\", len(out[0]))"
   ]
  },
  {
   "cell_type": "code",
   "execution_count": 134,
   "id": "a16f3323-784e-45e2-9d70-3ab773b06951",
   "metadata": {},
   "outputs": [
    {
     "name": "stdout",
     "output_type": "stream",
     "text": [
      "Hello, I am Featureiman Byeswickattribute argue\n"
     ]
    }
   ],
   "source": [
    "decoded_text = tokenizer.decode(out.squeeze(0).tolist())\n",
    "print(decoded_text)"
   ]
  },
  {
   "cell_type": "markdown",
   "id": "46a5ecd5-797e-4157-9340-71fd9f7425b2",
   "metadata": {},
   "source": [
    "<h4>\n",
    "\n",
    "Model outputs gibberish because it has not yet been trained.\n",
    "    \n",
    "</h4>"
   ]
  }
 ],
 "metadata": {
  "kernelspec": {
   "display_name": "Python 3 (ipykernel)",
   "language": "python",
   "name": "python3"
  },
  "language_info": {
   "codemirror_mode": {
    "name": "ipython",
    "version": 3
   },
   "file_extension": ".py",
   "mimetype": "text/x-python",
   "name": "python",
   "nbconvert_exporter": "python",
   "pygments_lexer": "ipython3",
   "version": "3.12.2"
  }
 },
 "nbformat": 4,
 "nbformat_minor": 5
}
