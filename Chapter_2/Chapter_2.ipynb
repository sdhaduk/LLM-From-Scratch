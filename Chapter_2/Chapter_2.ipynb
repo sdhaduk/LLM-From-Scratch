{
 "cells": [
  {
   "cell_type": "markdown",
   "id": "dfbf4986-6a28-486c-a799-6105b7ded7a6",
   "metadata": {},
   "source": [
    "# Chapter 2: Working with text data"
   ]
  },
  {
   "cell_type": "markdown",
   "id": "02c34766-6ef6-489b-931b-33cec2327bec",
   "metadata": {},
   "source": [
    "### 2.2 Tokenizing Text"
   ]
  },
  {
   "cell_type": "code",
   "execution_count": 4,
   "id": "6a062714-8588-4f32-8b2f-b6130d7e8000",
   "metadata": {},
   "outputs": [
    {
     "data": {
      "text/plain": [
       "('Chapter_2/the-verdict.txt', <http.client.HTTPMessage at 0x1081b1340>)"
      ]
     },
     "execution_count": 4,
     "metadata": {},
     "output_type": "execute_result"
    }
   ],
   "source": [
    "import urllib.request\n",
    "\n",
    "url = (\"https://github.com/rasbt/LLMs-from-scratch/blob/main/ch02/01_main-chapter-code/the-verdict.txt\")\n",
    "file_path = \"Chapter_2/the-verdict.txt\"\n",
    "\n",
    "urllib.request.urlretrieve(url, file_path)"
   ]
  },
  {
   "cell_type": "code",
   "execution_count": null,
   "id": "a5582a0b-f4ec-42e5-b6ad-bf7807f0e797",
   "metadata": {},
   "outputs": [],
   "source": [
    "with open(\"the-verdict.txt\", \"r\", encoding=\"utf-8\") sd"
   ]
  }
 ],
 "metadata": {
  "kernelspec": {
   "display_name": "Python 3 (ipykernel)",
   "language": "python",
   "name": "python3"
  },
  "language_info": {
   "codemirror_mode": {
    "name": "ipython",
    "version": 3
   },
   "file_extension": ".py",
   "mimetype": "text/x-python",
   "name": "python",
   "nbconvert_exporter": "python",
   "pygments_lexer": "ipython3",
   "version": "3.12.9"
  }
 },
 "nbformat": 4,
 "nbformat_minor": 5
}
