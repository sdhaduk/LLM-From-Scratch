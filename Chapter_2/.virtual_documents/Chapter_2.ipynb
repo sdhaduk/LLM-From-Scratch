





import urllib.request

url = "https://raw.githubusercontent.com/rasbt/LLMs-from-scratch/refs/heads/main/ch02/01_main-chapter-code/the-verdict.txt"
file_path = "the-verdict.txt"

urllib.request.urlretrieve(url, file_path)


with open("the-verdict.txt", "r", encoding="utf-8") as f:
    raw_text = f.read()

print(len(raw_text))
print(raw_text[:99])


import re
text = "Hello, world. This, is a test."
result = re.split(r'([,.]|\s)', text)
print(result)


result = [item for item in result if item.strip()]
print(result)


text = "Hello, world. Is this-- a test?"
result = re.split(r'([,.:;?_!"()\']|--|\s)', text)
result = [item.strip() for item in result if item.strip()]
print(result)


preprocessed = re.split(r'([,.:;?_!"()\']|--|\s)', raw_text)
preprocessed = [item.strip() for item in preprocessed if item.strip()]
print(len(preprocessed))
print(preprocessed[:30])





all_words = sorted(set(preprocessed))
vocab_size = len(all_words)
print(vocab_size)


vocab =  {token:index for index, token in enumerate(all_words)}
for i, item in enumerate(vocab.items()):
    print(item)
    if i >= 50:
        break


class SimpleTokenizerV1:
    def __init__(self, vocab):
        self.str_to_int = vocab
        self.int_to_str = {i:s for s, i in vocab.items()}

    def encode(self, text):
        preprocessed = re.split(r'([,.:;?_!"()\']|--|\s)', text)
        preprocessed = [item.strip() for item in preprocessed if item.strip()]
        ids = [self.str_to_int[s] for s in preprocessed]
        return ids

    def decode(self, ids):
        text = " ".join([self.int_to_str[i] for i in ids])
        text = re.sub(r'\s+([,.?!"()\'])', r'\1', text)
        return text


tokenizer = SimpleTokenizerV1(vocab)
text = """"It's the last he painted, you know," Mrs. Gisburn said with pardonable pride."""
ids = tokenizer.encode(text)
print(ids)


print(tokenizer.decode(ids))


text = "Hello, do you like tea?"
print(tokenizer.encode(text))





all_tokens = sorted(list(set(preprocessed)))
all_tokens.extend(["<|endoftext|>", "<|unk|>"])
vocab = {token:integer for integer, token in enumerate(all_tokens)}
print(len(vocab.items()))


for i, item in enumerate(list(vocab.items())[-5:]):
    print(item)


class SimpleTokenizerV2:
    def __init__(self, vocab):
        self.str_to_int = vocab
        self.int_to_str = {i:s for s, i in vocab.items()}

    def encode(self, text):
        preprocessed = re.split(r'([,.:;?_!"()\']|--|\s)', text)
        preprocessed = [item.strip() for item in preprocessed if item.strip()]
        preprocessed = [item if item in self.str_to_int else "<|unk|>" for item in preprocessed]
        ids = [self.str_to_int[s] for s in preprocessed]
        return ids

    def decode(self, ids):
        text = " ".join([self.int_to_str[i] for i in ids])
        text = re.sub(r'\s+([,.?!"()\'])', r'\1', text)
        return text


text1 = "Hello, do you like tea?"
text2 = "In the sunlit terraces of the palace."

text = " <|endoftext|> ".join((text1, text2))
print(text)


tokenizer = SimpleTokenizerV2(vocab)
print(tokenizer.encode(text))


print(tokenizer.decode(tokenizer.encode(text)))





import tiktoken


tokenizer = tiktoken.get_encoding("gpt2")
text = "Hello, do you like tea? <|endoftext|> In the sunlit terraces of someUnknownPlace."
integers = tokenizer.encode(text, allowed_special={"<|endoftext|>"})
print(integers)


strings = tokenizer.decode(integers)
print(strings)





integers = tokenizer.encode("Akwirw ier")
for i in integers:
    print(i)


for i in integers:
    print(tokenizer.decode([i]))


print(tokenizer.decode(integers))








with open("the-verdict.txt", "r", encoding="utf-8") as f:
    raw_text = f.read()

enc_text = tokenizer.encode(raw_text)
print(len(enc_text))


enc_sample = enc_text[50:]


'''
Generating the input-target pairs -> LLMS are pretrained by trying to predict the next word in a text
Create two variables, x and y, where x contains the input tokens, and y cointains the targets (which are the inputs shifted by +1)
'''

context_size = 4
x = enc_sample[:context_size]
y = enc_sample[1: context_size + 1]

print(f"x: {x}")
print(f"y:      {y}")


for i in range(1, context_size+1):
    context = enc_sample[:i]
    desired = enc_sample[i]
    print(context, "---->", desired)
    


for i in range(1, context_size+1):
    context = enc_sample[:i]
    desired = enc_sample[i]
    print(tokenizer.decode(context), "---->", tokenizer.decode([desired]))
    


'''
One more task before we can turn the tokens into embeddings: 
Implement a dataloader that iterates over the input dataset and returns the inputs and targets are PyTorch tensors
'''





import torch
X_train = torch.randn(5, 2)
y_train = torch.tensor([0, 0, 0, 1, 1])
X_test = torch.randn(2, 2)
y_test = torch.tensor([0, 1])

print(X_train)
print(y_train)
print(X_test)
print(y_test)


# Dataset class instantiates objects that define how each data record is loaded

from torch.utils.data import Dataset

class ToyDataset(Dataset):            
    def __init__(self, X, y):        # set up attributes that we can access later in the __getitem__ and __len__ methods (filepaths, file objects, database connectors, etc)
        self.features = X
        self.labels = y

    def __getitem__(self, index):    # define instructions for returning exactly one item from the datset via an index 
        one_x = self.features[index]
        one_y = self.labels[index]
        return one_x, one_y
        
    def __len__(self):               # contains instructions for retrieving the length of the dataset 
        return self.labels.shape[0]

train_ds = ToyDataset(X_train, y_train)
test_ds = ToyDataset(X_test, y_test)


# DataLoader class handles how the data is shuffled and assembled into batches

from torch.utils.data import DataLoader

train_loader = DataLoader(
    dataset=train_ds,
    batch_size=2,
    shuffle=True,
    num_workers=0,
    drop_last=True
)

test_loader = DataLoader(
    dataset=test_ds,
    batch_size=2,
    shuffle=False,
    num_workers=0
)


for idx, (x, y) in enumerate(train_loader):
    print(f"Batch {idx + 1}:", x, y)





import torch
from torch.utils.data import Dataset, DataLoader

class GPTDatasetV1(Dataset):
    def __init__(self, txt, tokenizer, max_length, stride):
        self.input_ids = []
        self.target_ids = []

        token_ids = tokenizer.encode(txt)
        for i in range(0, len(token_ids) - max_length, stride): # terminate forloop at [ len(token_ids) - max_length ] in order to guarantee input_chunk and target_chunk are of the same size
            input_chunk = token_ids[i:i + max_length]
            target_chunk = token_ids[i + 1: i + max_length + 1]
            self.input_ids.append(torch.tensor(input_chunk))
            self.target_ids.append(torch.tensor(target_chunk))

    def __len__(self):
        return len(self.input_ids)

    def __getitem__(self, idx):
        return self.input_ids[idx], self.target_ids[idx]


def create_dataloader_v1(txt, batch_size=4, max_length=256, stride=128, shuffle=True, drop_last=True, num_workers=0):
    tokenizer = tiktoken.get_encoding("gpt2")
    dataset = GPTDatasetV1(txt, tokenizer, max_length, stride)
    dataloader = DataLoader(
        dataset,
        batch_size=batch_size,
        shuffle=shuffle,
        drop_last=drop_last,
        num_workers=num_workers
    )
    return dataloader


with open("the-verdict.txt", "r", encoding="utf-8") as f:
    raw_text = f.read()

dataloader = create_dataloader_v1(raw_text, batch_size=1, max_length=4, stride=1, shuffle=False)
data_iter = iter(dataloader)
first_batch = next(data_iter)
print(first_batch)


second_batch = next(data_iter)
print(second_batch)





# Encode the input tokens into 256-dimensional vector represenations

vocab_size = 50267 # vocab size of BPE tokenizer
output_dim = 256
token_embedding_layer = torch.nn.Embedding(vocab_size, output_dim)


max_length = 4
dataloader = create_dataloader_v1(raw_text, batch_size=8, max_length=max_length, stride=max_length, shuffle=False)

data_iter = iter(dataloader)
inputs, targets = next(data_iter)
print("Token ids:\n", inputs)
print("\nInput shape: \n", inputs.shape) # data branch consists of 8 samples with 4 tokens each


token_embeddings = token_embedding_layer(inputs)
print(token_embeddings.shape) # each token is now embedding as a 256-dimensional vector


# For GPT's absoulute embedding approach, we need to create another embedding layer that has the same embedding dimension as the "token_embedding_layer"

context_length = max_length
pos_embedding_layer = torch.nn.Embedding(context_length, output_dim)
pos_embeddings = pos_embedding_layer(torch.arange(context_length)) # input to pos_embeddings is usually a placeholder vector that contains sequence of numbers 0, 1, 2 ... input_length - 1
print(pos_embeddings.shape)


input_embeddings = token_embeddings + pos_embeddings
print(input_embeddings.shape)
